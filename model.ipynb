{
 "cells": [
  {
   "cell_type": "markdown",
   "metadata": {},
   "source": [
    "## Summary\n",
    "#### Dataset\n",
    "* This dataset tries to capture customer purchase behavior in __baby__ category. \n",
    "* This dataset includes __100__ mother users from the mother cluster, resulting from K-means clustering based on purchase history.\n",
    "* The K-means clustering was performed on top __20%__ users of year 2017.\n",
    "* For each dataset, datapoint was sampled at uniform time interval (7 days).\n",
    "* For each sampled reference time, the sample is labelled __1__ if user placed an order in __baby__ category within __7 days__. Otherwise it's labelled __0__.\n",
    "\n",
    "#### Features\n",
    "- [x] Exponential moving averages of aggregate spending (ema)\n",
    "- [o] Average days between orders (dpo)\n",
    "- [x] Average days per quantity purchased (dpq)\n",
    "- [o] Days since last purchase in all categories (dsl)\n",
    "- [x] Average browse between consecutive purchases in all categories (bpo, bpo_e)\n",
    "- [x] Average browse per quantity purchased (bpq)\n",
    "- [x] Browse since most recent purchase (bsl)\n",
    "- [x] Average GMV per day between consecutive purchases (gpo, gpo_e)\n",
    "- [x] GMV / order (gpo)\n",
    "- [x] GMV / quantity (gpq)\n",
    "- [x] GMV / day = (GMV / order) / (day / order) (gpd)\n",
    "- [x] GMV per day since most recent purchase in category (gsl)\n",
    "\n",
    "#### Model\n",
    "* 3-Layered Neural Net\n",
    "* See def Build_Model() for details\n",
    "* __Only 2 features are included__: days per order (gpo), days since last order (dsl)\n",
    "\n",
    "#### Performance\n",
    "* baseline = 0.59217\n",
    "* True positive(tp) = 77\n",
    "* True negative(tn) = 213\n",
    "* False positive(fp) = 44\n",
    "* False negative(fn) = 100\n",
    "* precision = 0.63636\n",
    "* recall = 0.43503\n",
    "* accuracy = 0.66820\n",
    "* True Positive Rate(TPR) = 0.43503\n",
    "* False Positive Rate(FPR) = 0.17121"
   ]
  },
  {
   "cell_type": "code",
   "execution_count": 1,
   "metadata": {},
   "outputs": [],
   "source": [
    "%run -i 'py/load_libraries.py'"
   ]
  },
  {
   "cell_type": "markdown",
   "metadata": {},
   "source": [
    "## Load Dataset"
   ]
  },
  {
   "cell_type": "code",
   "execution_count": 2,
   "metadata": {},
   "outputs": [],
   "source": [
    "file_prefix = \"sample_100_dataset_v2_d7\"\n",
    "sub_dir = \"data\""
   ]
  },
  {
   "cell_type": "code",
   "execution_count": 3,
   "metadata": {},
   "outputs": [
    {
     "name": "stdout",
     "output_type": "stream",
     "text": [
      "(4339, 14)\n"
     ]
    }
   ],
   "source": [
    "path = os.path.join(cwd, sub_dir, file_prefix + \".csv\")\n",
    "df = pd.read_csv(path, sep = \",\")\n",
    "\n",
    "print(df.shape)"
   ]
  },
  {
   "cell_type": "code",
   "execution_count": 4,
   "metadata": {},
   "outputs": [
    {
     "data": {
      "text/plain": [
       "(0, 14)"
      ]
     },
     "execution_count": 4,
     "metadata": {},
     "output_type": "execute_result"
    }
   ],
   "source": [
    "nans = lambda df: df[df.isnull().any(axis=1)]\n",
    "nans(df).shape"
   ]
  },
  {
   "cell_type": "code",
   "execution_count": 5,
   "metadata": {},
   "outputs": [],
   "source": [
    "df_inspect = pd.DataFrame(columns = df.columns.insert(0, \"note\"))\n",
    "\n",
    "min_ = np.min(df, axis = 0)\n",
    "min_[\"note\"] = \"min\"\n",
    "df_inspect = df_inspect.append(min_, ignore_index=True)\n",
    "\n",
    "pct_25 = {df.columns[i] : np.percentile(df, 25, axis = 0)[i] for i in range(len(np.percentile(df, 25, axis = 0)))}\n",
    "pct_25[\"note\"] = \"pct_25\"\n",
    "df_inspect = df_inspect.append(pct_25, ignore_index=True)\n",
    "\n",
    "pct_50 = {df.columns[i] : np.percentile(df, 50, axis = 0)[i] for i in range(len(np.percentile(df, 25, axis = 0)))}\n",
    "pct_50[\"note\"] = \"pct_50\"\n",
    "df_inspect = df_inspect.append(pct_50, ignore_index=True)\n",
    "\n",
    "pct_75 = {df.columns[i] : np.percentile(df, 75, axis = 0)[i] for i in range(len(np.percentile(df, 25, axis = 0)))}\n",
    "pct_75[\"note\"] = \"pct_75\"\n",
    "df_inspect = df_inspect.append(pct_75, ignore_index=True)\n",
    "\n",
    "max_ = np.max(df, axis = 0)\n",
    "max_[\"note\"] = \"max\"\n",
    "df_inspect = df_inspect.append(max_, ignore_index=True)\n",
    "\n",
    "mu_ = np.mean(df, axis = 0)\n",
    "mu_[\"note\"] = \"mean\"\n",
    "df_inspect = df_inspect.append(mu_, ignore_index=True)\n",
    "\n",
    "std_ = np.std(df, axis = 0)\n",
    "std_[\"note\"] = \"std\"\n",
    "df_inspect = df_inspect.append(std_, ignore_index=True)\n",
    "\n",
    "nan = {df.columns[i] : len(nans(df[[df.columns[i]]])) * 100 / len(df) for i in range(len(df.columns))}\n",
    "nan[\"note\"] = \"nan\"\n",
    "df_inspect = df_inspect.append(nan, ignore_index=True)\n",
    "\n",
    "inf = {df.columns[i] : len(df[np.isinf(df[df.columns[i]])]) * 100 / len(df) for i in range(len(df.columns))}\n",
    "inf[\"note\"] = \"inf\"\n",
    "df_inspect = df_inspect.append(inf, ignore_index=True)"
   ]
  },
  {
   "cell_type": "code",
   "execution_count": 6,
   "metadata": {},
   "outputs": [
    {
     "data": {
      "text/html": [
       "<div>\n",
       "<style scoped>\n",
       "    .dataframe tbody tr th:only-of-type {\n",
       "        vertical-align: middle;\n",
       "    }\n",
       "\n",
       "    .dataframe tbody tr th {\n",
       "        vertical-align: top;\n",
       "    }\n",
       "\n",
       "    .dataframe thead th {\n",
       "        text-align: right;\n",
       "    }\n",
       "</style>\n",
       "<table border=\"1\" class=\"dataframe\">\n",
       "  <thead>\n",
       "    <tr style=\"text-align: right;\">\n",
       "      <th>note</th>\n",
       "      <th>min</th>\n",
       "      <th>pct_25</th>\n",
       "      <th>pct_50</th>\n",
       "      <th>pct_75</th>\n",
       "      <th>max</th>\n",
       "      <th>mean</th>\n",
       "      <th>std</th>\n",
       "      <th>nan</th>\n",
       "      <th>inf</th>\n",
       "    </tr>\n",
       "  </thead>\n",
       "  <tbody>\n",
       "    <tr>\n",
       "      <th>dt</th>\n",
       "      <td>2.017082e+07</td>\n",
       "      <td>2.017113e+07</td>\n",
       "      <td>2.018022e+07</td>\n",
       "      <td>2.018050e+07</td>\n",
       "      <td>2.018073e+07</td>\n",
       "      <td>2.017711e+07</td>\n",
       "      <td>4467.178934</td>\n",
       "      <td>0.0</td>\n",
       "      <td>0.000000</td>\n",
       "    </tr>\n",
       "    <tr>\n",
       "      <th>label</th>\n",
       "      <td>0.000000e+00</td>\n",
       "      <td>0.000000e+00</td>\n",
       "      <td>0.000000e+00</td>\n",
       "      <td>1.000000e+00</td>\n",
       "      <td>1.000000e+00</td>\n",
       "      <td>3.973266e-01</td>\n",
       "      <td>0.489345</td>\n",
       "      <td>0.0</td>\n",
       "      <td>0.000000</td>\n",
       "    </tr>\n",
       "    <tr>\n",
       "      <th>bpo_e</th>\n",
       "      <td>0.000000e+00</td>\n",
       "      <td>1.915252e+01</td>\n",
       "      <td>4.089443e+01</td>\n",
       "      <td>8.162860e+01</td>\n",
       "      <td>1.334143e+03</td>\n",
       "      <td>6.870713e+01</td>\n",
       "      <td>97.614506</td>\n",
       "      <td>0.0</td>\n",
       "      <td>0.000000</td>\n",
       "    </tr>\n",
       "    <tr>\n",
       "      <th>gpo_e</th>\n",
       "      <td>-2.130198e+03</td>\n",
       "      <td>2.960211e+03</td>\n",
       "      <td>4.406159e+03</td>\n",
       "      <td>6.601149e+03</td>\n",
       "      <td>7.512000e+04</td>\n",
       "      <td>5.729746e+03</td>\n",
       "      <td>5170.017414</td>\n",
       "      <td>0.0</td>\n",
       "      <td>0.000000</td>\n",
       "    </tr>\n",
       "    <tr>\n",
       "      <th>bpo</th>\n",
       "      <td>0.000000e+00</td>\n",
       "      <td>1.230625e+02</td>\n",
       "      <td>2.032609e+02</td>\n",
       "      <td>3.316383e+02</td>\n",
       "      <td>1.966500e+03</td>\n",
       "      <td>2.642065e+02</td>\n",
       "      <td>235.357849</td>\n",
       "      <td>0.0</td>\n",
       "      <td>0.000000</td>\n",
       "    </tr>\n",
       "    <tr>\n",
       "      <th>gpo</th>\n",
       "      <td>1.453333e+03</td>\n",
       "      <td>8.687374e+03</td>\n",
       "      <td>1.086947e+04</td>\n",
       "      <td>1.289568e+04</td>\n",
       "      <td>4.685500e+04</td>\n",
       "      <td>1.144161e+04</td>\n",
       "      <td>4025.863024</td>\n",
       "      <td>0.0</td>\n",
       "      <td>0.000000</td>\n",
       "    </tr>\n",
       "    <tr>\n",
       "      <th>dpo</th>\n",
       "      <td>0.000000e+00</td>\n",
       "      <td>4.147059e+00</td>\n",
       "      <td>7.189189e+00</td>\n",
       "      <td>1.110345e+01</td>\n",
       "      <td>1.075000e+02</td>\n",
       "      <td>1.021197e+01</td>\n",
       "      <td>12.026557</td>\n",
       "      <td>0.0</td>\n",
       "      <td>0.000000</td>\n",
       "    </tr>\n",
       "    <tr>\n",
       "      <th>bpq</th>\n",
       "      <td>0.000000e+00</td>\n",
       "      <td>1.225671e+02</td>\n",
       "      <td>2.046757e+02</td>\n",
       "      <td>3.256611e+02</td>\n",
       "      <td>1.966500e+03</td>\n",
       "      <td>2.630786e+02</td>\n",
       "      <td>234.221532</td>\n",
       "      <td>0.0</td>\n",
       "      <td>0.000000</td>\n",
       "    </tr>\n",
       "    <tr>\n",
       "      <th>dpq</th>\n",
       "      <td>0.000000e+00</td>\n",
       "      <td>4.212121e+00</td>\n",
       "      <td>7.122449e+00</td>\n",
       "      <td>1.133333e+01</td>\n",
       "      <td>9.250000e+01</td>\n",
       "      <td>9.861098e+00</td>\n",
       "      <td>10.533185</td>\n",
       "      <td>0.0</td>\n",
       "      <td>0.000000</td>\n",
       "    </tr>\n",
       "    <tr>\n",
       "      <th>gpq</th>\n",
       "      <td>2.218000e+03</td>\n",
       "      <td>8.793793e+03</td>\n",
       "      <td>1.072118e+04</td>\n",
       "      <td>1.286509e+04</td>\n",
       "      <td>4.685500e+04</td>\n",
       "      <td>1.145361e+04</td>\n",
       "      <td>4141.515364</td>\n",
       "      <td>0.0</td>\n",
       "      <td>0.000000</td>\n",
       "    </tr>\n",
       "    <tr>\n",
       "      <th>gpd</th>\n",
       "      <td>5.158140e+01</td>\n",
       "      <td>9.219565e+02</td>\n",
       "      <td>1.537642e+03</td>\n",
       "      <td>2.556398e+03</td>\n",
       "      <td>inf</td>\n",
       "      <td>inf</td>\n",
       "      <td>NaN</td>\n",
       "      <td>0.0</td>\n",
       "      <td>1.682415</td>\n",
       "    </tr>\n",
       "    <tr>\n",
       "      <th>dsl</th>\n",
       "      <td>1.000000e+00</td>\n",
       "      <td>5.000000e+00</td>\n",
       "      <td>1.100000e+01</td>\n",
       "      <td>2.400000e+01</td>\n",
       "      <td>2.220000e+02</td>\n",
       "      <td>2.098502e+01</td>\n",
       "      <td>28.752442</td>\n",
       "      <td>0.0</td>\n",
       "      <td>0.000000</td>\n",
       "    </tr>\n",
       "    <tr>\n",
       "      <th>bsl</th>\n",
       "      <td>0.000000e+00</td>\n",
       "      <td>0.000000e+00</td>\n",
       "      <td>8.181818e-01</td>\n",
       "      <td>1.160795e+01</td>\n",
       "      <td>9.301667e+02</td>\n",
       "      <td>1.704690e+01</td>\n",
       "      <td>48.570673</td>\n",
       "      <td>0.0</td>\n",
       "      <td>0.000000</td>\n",
       "    </tr>\n",
       "    <tr>\n",
       "      <th>gsl</th>\n",
       "      <td>2.052381e+01</td>\n",
       "      <td>3.738770e+02</td>\n",
       "      <td>9.275000e+02</td>\n",
       "      <td>2.315000e+03</td>\n",
       "      <td>5.480000e+04</td>\n",
       "      <td>2.253650e+03</td>\n",
       "      <td>3924.555166</td>\n",
       "      <td>0.0</td>\n",
       "      <td>0.000000</td>\n",
       "    </tr>\n",
       "  </tbody>\n",
       "</table>\n",
       "</div>"
      ],
      "text/plain": [
       "note            min        pct_25        pct_50        pct_75           max  \\\n",
       "dt     2.017082e+07  2.017113e+07  2.018022e+07  2.018050e+07  2.018073e+07   \n",
       "label  0.000000e+00  0.000000e+00  0.000000e+00  1.000000e+00  1.000000e+00   \n",
       "bpo_e  0.000000e+00  1.915252e+01  4.089443e+01  8.162860e+01  1.334143e+03   \n",
       "gpo_e -2.130198e+03  2.960211e+03  4.406159e+03  6.601149e+03  7.512000e+04   \n",
       "bpo    0.000000e+00  1.230625e+02  2.032609e+02  3.316383e+02  1.966500e+03   \n",
       "gpo    1.453333e+03  8.687374e+03  1.086947e+04  1.289568e+04  4.685500e+04   \n",
       "dpo    0.000000e+00  4.147059e+00  7.189189e+00  1.110345e+01  1.075000e+02   \n",
       "bpq    0.000000e+00  1.225671e+02  2.046757e+02  3.256611e+02  1.966500e+03   \n",
       "dpq    0.000000e+00  4.212121e+00  7.122449e+00  1.133333e+01  9.250000e+01   \n",
       "gpq    2.218000e+03  8.793793e+03  1.072118e+04  1.286509e+04  4.685500e+04   \n",
       "gpd    5.158140e+01  9.219565e+02  1.537642e+03  2.556398e+03           inf   \n",
       "dsl    1.000000e+00  5.000000e+00  1.100000e+01  2.400000e+01  2.220000e+02   \n",
       "bsl    0.000000e+00  0.000000e+00  8.181818e-01  1.160795e+01  9.301667e+02   \n",
       "gsl    2.052381e+01  3.738770e+02  9.275000e+02  2.315000e+03  5.480000e+04   \n",
       "\n",
       "note           mean          std  nan       inf  \n",
       "dt     2.017711e+07  4467.178934  0.0  0.000000  \n",
       "label  3.973266e-01     0.489345  0.0  0.000000  \n",
       "bpo_e  6.870713e+01    97.614506  0.0  0.000000  \n",
       "gpo_e  5.729746e+03  5170.017414  0.0  0.000000  \n",
       "bpo    2.642065e+02   235.357849  0.0  0.000000  \n",
       "gpo    1.144161e+04  4025.863024  0.0  0.000000  \n",
       "dpo    1.021197e+01    12.026557  0.0  0.000000  \n",
       "bpq    2.630786e+02   234.221532  0.0  0.000000  \n",
       "dpq    9.861098e+00    10.533185  0.0  0.000000  \n",
       "gpq    1.145361e+04  4141.515364  0.0  0.000000  \n",
       "gpd             inf          NaN  0.0  1.682415  \n",
       "dsl    2.098502e+01    28.752442  0.0  0.000000  \n",
       "bsl    1.704690e+01    48.570673  0.0  0.000000  \n",
       "gsl    2.253650e+03  3924.555166  0.0  0.000000  "
      ]
     },
     "execution_count": 6,
     "metadata": {},
     "output_type": "execute_result"
    }
   ],
   "source": [
    "df_inspect.set_index(\"note\").T"
   ]
  },
  {
   "cell_type": "markdown",
   "metadata": {},
   "source": [
    "## Preprocessing"
   ]
  },
  {
   "cell_type": "code",
   "execution_count": 7,
   "metadata": {},
   "outputs": [],
   "source": [
    "# drop bad features here\n",
    "df = df.drop([\"gpd\"], axis = 1)"
   ]
  },
  {
   "cell_type": "code",
   "execution_count": 8,
   "metadata": {},
   "outputs": [
    {
     "name": "stdout",
     "output_type": "stream",
     "text": [
      "(4339, 13)\n"
     ]
    }
   ],
   "source": [
    "df = df.dropna()\n",
    "print(df.shape)"
   ]
  },
  {
   "cell_type": "code",
   "execution_count": 9,
   "metadata": {},
   "outputs": [
    {
     "data": {
      "text/html": [
       "<div>\n",
       "<style scoped>\n",
       "    .dataframe tbody tr th:only-of-type {\n",
       "        vertical-align: middle;\n",
       "    }\n",
       "\n",
       "    .dataframe tbody tr th {\n",
       "        vertical-align: top;\n",
       "    }\n",
       "\n",
       "    .dataframe thead th {\n",
       "        text-align: right;\n",
       "    }\n",
       "</style>\n",
       "<table border=\"1\" class=\"dataframe\">\n",
       "  <thead>\n",
       "    <tr style=\"text-align: right;\">\n",
       "      <th></th>\n",
       "      <th>label</th>\n",
       "    </tr>\n",
       "  </thead>\n",
       "  <tbody>\n",
       "    <tr>\n",
       "      <th>0</th>\n",
       "      <td>1.0</td>\n",
       "    </tr>\n",
       "    <tr>\n",
       "      <th>1</th>\n",
       "      <td>1.0</td>\n",
       "    </tr>\n",
       "    <tr>\n",
       "      <th>2</th>\n",
       "      <td>0.0</td>\n",
       "    </tr>\n",
       "    <tr>\n",
       "      <th>3</th>\n",
       "      <td>1.0</td>\n",
       "    </tr>\n",
       "    <tr>\n",
       "      <th>4</th>\n",
       "      <td>0.0</td>\n",
       "    </tr>\n",
       "  </tbody>\n",
       "</table>\n",
       "</div>"
      ],
      "text/plain": [
       "   label\n",
       "0    1.0\n",
       "1    1.0\n",
       "2    0.0\n",
       "3    1.0\n",
       "4    0.0"
      ]
     },
     "execution_count": 9,
     "metadata": {},
     "output_type": "execute_result"
    }
   ],
   "source": [
    "# separate label into another dataframe\n",
    "df_labl = df[[key_label]]\n",
    "df_labl.head()"
   ]
  },
  {
   "cell_type": "code",
   "execution_count": 10,
   "metadata": {},
   "outputs": [
    {
     "data": {
      "text/html": [
       "<div>\n",
       "<style scoped>\n",
       "    .dataframe tbody tr th:only-of-type {\n",
       "        vertical-align: middle;\n",
       "    }\n",
       "\n",
       "    .dataframe tbody tr th {\n",
       "        vertical-align: top;\n",
       "    }\n",
       "\n",
       "    .dataframe thead th {\n",
       "        text-align: right;\n",
       "    }\n",
       "</style>\n",
       "<table border=\"1\" class=\"dataframe\">\n",
       "  <thead>\n",
       "    <tr style=\"text-align: right;\">\n",
       "      <th></th>\n",
       "      <th>bpo_e</th>\n",
       "      <th>gpo_e</th>\n",
       "      <th>bpo</th>\n",
       "      <th>gpo</th>\n",
       "      <th>dpo</th>\n",
       "      <th>bpq</th>\n",
       "      <th>dpq</th>\n",
       "      <th>gpq</th>\n",
       "      <th>dsl</th>\n",
       "      <th>bsl</th>\n",
       "      <th>gsl</th>\n",
       "    </tr>\n",
       "  </thead>\n",
       "  <tbody>\n",
       "    <tr>\n",
       "      <th>0</th>\n",
       "      <td>35.577199</td>\n",
       "      <td>6182.565262</td>\n",
       "      <td>405.111111</td>\n",
       "      <td>13113.333333</td>\n",
       "      <td>8.444444</td>\n",
       "      <td>331.454545</td>\n",
       "      <td>6.909091</td>\n",
       "      <td>10729.090909</td>\n",
       "      <td>1.0</td>\n",
       "      <td>0.000000</td>\n",
       "      <td>22070.000000</td>\n",
       "    </tr>\n",
       "    <tr>\n",
       "      <th>1</th>\n",
       "      <td>29.493984</td>\n",
       "      <td>13309.657084</td>\n",
       "      <td>365.200000</td>\n",
       "      <td>20672.000000</td>\n",
       "      <td>7.800000</td>\n",
       "      <td>304.333333</td>\n",
       "      <td>6.500000</td>\n",
       "      <td>17226.666667</td>\n",
       "      <td>6.0</td>\n",
       "      <td>3.666667</td>\n",
       "      <td>3678.333333</td>\n",
       "    </tr>\n",
       "    <tr>\n",
       "      <th>2</th>\n",
       "      <td>29.493984</td>\n",
       "      <td>13309.657084</td>\n",
       "      <td>365.200000</td>\n",
       "      <td>20672.000000</td>\n",
       "      <td>7.800000</td>\n",
       "      <td>304.333333</td>\n",
       "      <td>6.500000</td>\n",
       "      <td>17226.666667</td>\n",
       "      <td>13.0</td>\n",
       "      <td>2.769231</td>\n",
       "      <td>1697.692308</td>\n",
       "    </tr>\n",
       "    <tr>\n",
       "      <th>3</th>\n",
       "      <td>25.175932</td>\n",
       "      <td>11122.388021</td>\n",
       "      <td>336.909091</td>\n",
       "      <td>19352.727273</td>\n",
       "      <td>8.272727</td>\n",
       "      <td>285.076923</td>\n",
       "      <td>7.000000</td>\n",
       "      <td>16375.384615</td>\n",
       "      <td>7.0</td>\n",
       "      <td>0.000000</td>\n",
       "      <td>3152.857143</td>\n",
       "    </tr>\n",
       "    <tr>\n",
       "      <th>4</th>\n",
       "      <td>25.175932</td>\n",
       "      <td>11122.388021</td>\n",
       "      <td>336.909091</td>\n",
       "      <td>19352.727273</td>\n",
       "      <td>8.272727</td>\n",
       "      <td>285.076923</td>\n",
       "      <td>7.000000</td>\n",
       "      <td>16375.384615</td>\n",
       "      <td>14.0</td>\n",
       "      <td>24.071429</td>\n",
       "      <td>1576.428571</td>\n",
       "    </tr>\n",
       "  </tbody>\n",
       "</table>\n",
       "</div>"
      ],
      "text/plain": [
       "       bpo_e         gpo_e         bpo           gpo       dpo         bpq  \\\n",
       "0  35.577199   6182.565262  405.111111  13113.333333  8.444444  331.454545   \n",
       "1  29.493984  13309.657084  365.200000  20672.000000  7.800000  304.333333   \n",
       "2  29.493984  13309.657084  365.200000  20672.000000  7.800000  304.333333   \n",
       "3  25.175932  11122.388021  336.909091  19352.727273  8.272727  285.076923   \n",
       "4  25.175932  11122.388021  336.909091  19352.727273  8.272727  285.076923   \n",
       "\n",
       "        dpq           gpq   dsl        bsl           gsl  \n",
       "0  6.909091  10729.090909   1.0   0.000000  22070.000000  \n",
       "1  6.500000  17226.666667   6.0   3.666667   3678.333333  \n",
       "2  6.500000  17226.666667  13.0   2.769231   1697.692308  \n",
       "3  7.000000  16375.384615   7.0   0.000000   3152.857143  \n",
       "4  7.000000  16375.384615  14.0  24.071429   1576.428571  "
      ]
     },
     "execution_count": 10,
     "metadata": {},
     "output_type": "execute_result"
    }
   ],
   "source": [
    "# extract input features\n",
    "df_data = df.drop([key_dt, key_label], axis = 1)\n",
    "df_data.head()"
   ]
  },
  {
   "cell_type": "markdown",
   "metadata": {},
   "source": [
    "## Gradient Boosting Machine \n",
    "* Rank features by importance\n",
    "* Apply to entire dataset"
   ]
  },
  {
   "cell_type": "code",
   "execution_count": 11,
   "metadata": {},
   "outputs": [
    {
     "name": "stderr",
     "output_type": "stream",
     "text": [
      "/anaconda2/envs/py3k/lib/python3.6/site-packages/sklearn/cross_validation.py:41: DeprecationWarning: This module was deprecated in version 0.18 in favor of the model_selection module into which all the refactored classes and functions are moved. Also note that the interface of the new CV iterators are different from that of this module. This module will be removed in 0.20.\n",
      "  \"This module will be removed in 0.20.\", DeprecationWarning)\n",
      "/anaconda2/envs/py3k/lib/python3.6/site-packages/sklearn/grid_search.py:42: DeprecationWarning: This module was deprecated in version 0.18 in favor of the model_selection module into which all the refactored classes and functions are moved. This module will be removed in 0.20.\n",
      "  DeprecationWarning)\n"
     ]
    }
   ],
   "source": [
    "from sklearn.ensemble import GradientBoostingClassifier  #GBM algorithm\n",
    "from sklearn import cross_validation, metrics   #Additional scklearn functions\n",
    "from sklearn.grid_search import GridSearchCV   #Perforing grid search\n",
    "\n",
    "%matplotlib inline\n",
    "from matplotlib.pylab import rcParams\n",
    "rcParams['figure.figsize'] = 12, 4"
   ]
  },
  {
   "cell_type": "code",
   "execution_count": 12,
   "metadata": {},
   "outputs": [],
   "source": [
    "def modelfit(alg, dtrain, labels, predictors, performCV = True, printFeatureImportance = True, cv_folds = 5):\n",
    "    #Fit the algorithm on the data\n",
    "    alg.fit(dtrain, labels)\n",
    "        \n",
    "    #Predict training set:\n",
    "    dtrain_predictions = alg.predict(dtrain)\n",
    "    dtrain_predprob = alg.predict_proba(dtrain)[:,1]\n",
    "    \n",
    "    #Perform cross-validation:\n",
    "    if performCV:\n",
    "        cv_score = cross_validation.cross_val_score(alg, \n",
    "                                                    dtrain, \n",
    "                                                    labels, \n",
    "                                                    cv=cv_folds, \n",
    "                                                    scoring='accuracy')\n",
    "    \n",
    "    #Print model report:\n",
    "    analysis.log(\"\\nModel Report\")\n",
    "    analysis.log(\"Accuracy : %.10g\" % metrics.accuracy_score(labels, dtrain_predictions))\n",
    "    analysis.log(\"AUC Score (Train): %f\" % metrics.roc_auc_score(labels, dtrain_predprob))\n",
    "    \n",
    "    if performCV:\n",
    "        analysis.log(\"CV Score : Mean - %.7g | Std - %.7g | Min - %.7g | Max - %.7g\\n\" % (np.mean(cv_score),\n",
    "                                                                                 np.std(cv_score),\n",
    "                                                                                 np.min(cv_score),\n",
    "                                                                                 np.max(cv_score)))\n",
    "        \n",
    "    #Print Feature Importance:\n",
    "    if printFeatureImportance:\n",
    "        feat_imp = pd.Series(alg.feature_importances_, predictors).sort_values(ascending=False)\n",
    "        feat_imp.plot(kind='bar', title='Feature Importances')\n",
    "        plt.ylabel('Feature Importance Score')\n",
    "        plt.savefig(os.path.join(cwd, \"fig\", \"feature_importance.png\"))"
   ]
  },
  {
   "cell_type": "code",
   "execution_count": 13,
   "metadata": {},
   "outputs": [],
   "source": [
    "predictors = [x for x in df_data.columns if x not in [key_label, key_dt]]\n",
    "gbm0 = GradientBoostingClassifier(random_state=10)"
   ]
  },
  {
   "cell_type": "code",
   "execution_count": 14,
   "metadata": {},
   "outputs": [
    {
     "name": "stdout",
     "output_type": "stream",
     "text": [
      "\n",
      "Model Report\n",
      "Accuracy : 0.7121456557\n",
      "AUC Score (Train): 0.778001\n",
      "CV Score : Mean - 0.6015305 | Std - 0.02622734 | Min - 0.562212 | Max - 0.6424452\n",
      "\n"
     ]
    },
    {
     "data": {
      "image/png": "[encoded data removed]",
      "text/plain": [
       "<Figure size 864x288 with 1 Axes>"
      ]
     },
     "metadata": {},
     "output_type": "display_data"
    }
   ],
   "source": [
    "modelfit(gbm0, df_data, df_labl.values.reshape(df_labl.shape[0], ), predictors)"
   ]
  },
  {
   "cell_type": "markdown",
   "metadata": {},
   "source": [
    "## Build Train-Test Dataset"
   ]
  },
  {
   "cell_type": "code",
   "execution_count": 15,
   "metadata": {},
   "outputs": [],
   "source": [
    "# choose subset of features to use\n",
    "features = [\"dpq\", \"dsl\"]\n",
    "\n",
    "# choose train-test split ratio\n",
    "ratio = 0.9"
   ]
  },
  {
   "cell_type": "code",
   "execution_count": 16,
   "metadata": {},
   "outputs": [],
   "source": [
    "# normalize\n",
    "df_data = (df_data - np.mean(df_data)) / np.std(df_data)"
   ]
  },
  {
   "cell_type": "code",
   "execution_count": 17,
   "metadata": {},
   "outputs": [
    {
     "data": {
      "text/plain": [
       "(4339, 2)"
      ]
     },
     "execution_count": 17,
     "metadata": {},
     "output_type": "execute_result"
    }
   ],
   "source": [
    "df_data = df[features]\n",
    "\n",
    "df_data.head()\n",
    "df_data.shape"
   ]
  },
  {
   "cell_type": "code",
   "execution_count": 18,
   "metadata": {},
   "outputs": [],
   "source": [
    "rows = len(df_data)\n",
    "split = int(rows * ratio)\n",
    "trn_data = df_data[:split]\n",
    "trn_labl = df_labl[:split].astype(int)\n",
    "\n",
    "tst_data = df_data[split:]\n",
    "tst_labl = df_labl[split:].astype(int)"
   ]
  },
  {
   "cell_type": "markdown",
   "metadata": {},
   "source": [
    "## Baseline"
   ]
  },
  {
   "cell_type": "code",
   "execution_count": 19,
   "metadata": {},
   "outputs": [
    {
     "name": "stdout",
     "output_type": "stream",
     "text": [
      "Dataset baseline: 60.26734%\n",
      "Train baseline: 60.38412%\n",
      "Test baseline: 59.21659%\n"
     ]
    }
   ],
   "source": [
    "print(\"Dataset baseline: %.5f%%\"%(analysis.Baseline(df_labl)))\n",
    "print(\"Train baseline: %.5f%%\"%(analysis.Baseline(trn_labl)))\n",
    "print(\"Test baseline: %.5f%%\"%(analysis.Baseline(tst_labl)))"
   ]
  },
  {
   "cell_type": "markdown",
   "metadata": {},
   "source": [
    "## Logistic Regression"
   ]
  },
  {
   "cell_type": "code",
   "execution_count": 20,
   "metadata": {},
   "outputs": [],
   "source": [
    "from sklearn.linear_model import LogisticRegression\n",
    "from sklearn.cross_validation import train_test_split\n",
    "from sklearn.feature_selection import RFE"
   ]
  },
  {
   "cell_type": "code",
   "execution_count": 21,
   "metadata": {},
   "outputs": [
    {
     "name": "stdout",
     "output_type": "stream",
     "text": [
      "[LibLinear]"
     ]
    },
    {
     "name": "stderr",
     "output_type": "stream",
     "text": [
      "/anaconda2/envs/py3k/lib/python3.6/site-packages/sklearn/utils/validation.py:578: DataConversionWarning: A column-vector y was passed when a 1d array was expected. Please change the shape of y to (n_samples, ), for example using ravel().\n",
      "  y = column_or_1d(y, warn=True)\n"
     ]
    },
    {
     "data": {
      "text/plain": [
       "LogisticRegression(C=1.0, class_weight=None, dual=False, fit_intercept=True,\n",
       "          intercept_scaling=1, max_iter=10000, multi_class='ovr', n_jobs=1,\n",
       "          penalty='l2', random_state=None, solver='liblinear', tol=0.0001,\n",
       "          verbose=3, warm_start=False)"
      ]
     },
     "execution_count": 21,
     "metadata": {},
     "output_type": "execute_result"
    }
   ],
   "source": [
    "logreg = LogisticRegression(max_iter = 10000,\n",
    "                           verbose = 3)\n",
    "logreg.fit(trn_data, \n",
    "           trn_labl)"
   ]
  },
  {
   "cell_type": "code",
   "execution_count": 22,
   "metadata": {},
   "outputs": [
    {
     "data": {
      "text/plain": [
       "0.65668202764976957"
      ]
     },
     "execution_count": 22,
     "metadata": {},
     "output_type": "execute_result"
    }
   ],
   "source": [
    "logreg.score(tst_data, \n",
    "             tst_labl, \n",
    "             sample_weight=None)"
   ]
  },
  {
   "cell_type": "code",
   "execution_count": 23,
   "metadata": {},
   "outputs": [
    {
     "data": {
      "text/html": [
       "<div>\n",
       "<style scoped>\n",
       "    .dataframe tbody tr th:only-of-type {\n",
       "        vertical-align: middle;\n",
       "    }\n",
       "\n",
       "    .dataframe tbody tr th {\n",
       "        vertical-align: top;\n",
       "    }\n",
       "\n",
       "    .dataframe thead th {\n",
       "        text-align: right;\n",
       "    }\n",
       "</style>\n",
       "<table border=\"1\" class=\"dataframe\">\n",
       "  <thead>\n",
       "    <tr style=\"text-align: right;\">\n",
       "      <th></th>\n",
       "      <th>3905</th>\n",
       "      <th>3906</th>\n",
       "      <th>3907</th>\n",
       "      <th>3908</th>\n",
       "      <th>3909</th>\n",
       "      <th>3910</th>\n",
       "      <th>3911</th>\n",
       "      <th>3912</th>\n",
       "      <th>3913</th>\n",
       "      <th>3914</th>\n",
       "      <th>...</th>\n",
       "      <th>4329</th>\n",
       "      <th>4330</th>\n",
       "      <th>4331</th>\n",
       "      <th>4332</th>\n",
       "      <th>4333</th>\n",
       "      <th>4334</th>\n",
       "      <th>4335</th>\n",
       "      <th>4336</th>\n",
       "      <th>4337</th>\n",
       "      <th>4338</th>\n",
       "    </tr>\n",
       "  </thead>\n",
       "  <tbody>\n",
       "    <tr>\n",
       "      <th>label</th>\n",
       "      <td>1</td>\n",
       "      <td>0</td>\n",
       "      <td>1</td>\n",
       "      <td>0</td>\n",
       "      <td>0</td>\n",
       "      <td>0</td>\n",
       "      <td>0</td>\n",
       "      <td>0</td>\n",
       "      <td>1</td>\n",
       "      <td>0</td>\n",
       "      <td>...</td>\n",
       "      <td>1</td>\n",
       "      <td>1</td>\n",
       "      <td>0</td>\n",
       "      <td>1</td>\n",
       "      <td>1</td>\n",
       "      <td>0</td>\n",
       "      <td>1</td>\n",
       "      <td>0</td>\n",
       "      <td>0</td>\n",
       "      <td>1</td>\n",
       "    </tr>\n",
       "    <tr>\n",
       "      <th>pred</th>\n",
       "      <td>0</td>\n",
       "      <td>0</td>\n",
       "      <td>0</td>\n",
       "      <td>0</td>\n",
       "      <td>0</td>\n",
       "      <td>0</td>\n",
       "      <td>0</td>\n",
       "      <td>0</td>\n",
       "      <td>0</td>\n",
       "      <td>0</td>\n",
       "      <td>...</td>\n",
       "      <td>0</td>\n",
       "      <td>0</td>\n",
       "      <td>0</td>\n",
       "      <td>0</td>\n",
       "      <td>0</td>\n",
       "      <td>0</td>\n",
       "      <td>0</td>\n",
       "      <td>0</td>\n",
       "      <td>0</td>\n",
       "      <td>0</td>\n",
       "    </tr>\n",
       "  </tbody>\n",
       "</table>\n",
       "<p>2 rows × 434 columns</p>\n",
       "</div>"
      ],
      "text/plain": [
       "       3905  3906  3907  3908  3909  3910  3911  3912  3913  3914  ...   4329  \\\n",
       "label     1     0     1     0     0     0     0     0     1     0  ...      1   \n",
       "pred      0     0     0     0     0     0     0     0     0     0  ...      0   \n",
       "\n",
       "       4330  4331  4332  4333  4334  4335  4336  4337  4338  \n",
       "label     1     0     1     1     0     1     0     0     1  \n",
       "pred      0     0     0     0     0     0     0     0     0  \n",
       "\n",
       "[2 rows x 434 columns]"
      ]
     },
     "execution_count": 23,
     "metadata": {},
     "output_type": "execute_result"
    }
   ],
   "source": [
    "pred = logreg.predict(tst_data)\n",
    "_ = deepcopy(tst_labl)\n",
    "_[\"pred\"] = pred\n",
    "_.T"
   ]
  },
  {
   "cell_type": "code",
   "execution_count": 24,
   "metadata": {},
   "outputs": [
    {
     "data": {
      "text/plain": [
       "102"
      ]
     },
     "execution_count": 24,
     "metadata": {},
     "output_type": "execute_result"
    }
   ],
   "source": [
    "np.sum(pred)"
   ]
  },
  {
   "cell_type": "markdown",
   "metadata": {},
   "source": [
    "## Neural Net Binary Classifier"
   ]
  },
  {
   "cell_type": "code",
   "execution_count": 25,
   "metadata": {},
   "outputs": [
    {
     "name": "stderr",
     "output_type": "stream",
     "text": [
      "Using TensorFlow backend.\n"
     ]
    }
   ],
   "source": [
    "from keras.models import Sequential \n",
    "from keras.layers import Dense, Activation \n",
    "from keras.utils import np_utils"
   ]
  },
  {
   "cell_type": "code",
   "execution_count": 26,
   "metadata": {},
   "outputs": [],
   "source": [
    "def Build_Model():\n",
    "    nn = Sequential()\n",
    "    nn.add(Dense(32, activation=\"relu\", input_shape=(len(features),)))\n",
    "    nn.add(Dense(32, activation=\"relu\"))\n",
    "    nn.add(Dense(1, activation=\"sigmoid\"))\n",
    "    nn.compile(optimizer='adam', loss='binary_crossentropy', metrics=['accuracy'])\n",
    "    return nn"
   ]
  },
  {
   "cell_type": "code",
   "execution_count": 27,
   "metadata": {},
   "outputs": [
    {
     "name": "stdout",
     "output_type": "stream",
     "text": [
      "Epoch 1/10\n",
      "3905/3905 [==============================] - 0s 23us/step - loss: 0.6609 - acc: 0.5964\n",
      "Epoch 2/10\n",
      "3905/3905 [==============================] - 0s 5us/step - loss: 0.6522 - acc: 0.6038\n",
      "Epoch 3/10\n",
      "3905/3905 [==============================] - 0s 4us/step - loss: 0.6454 - acc: 0.6038\n",
      "Epoch 4/10\n",
      "3905/3905 [==============================] - 0s 4us/step - loss: 0.6439 - acc: 0.6041\n",
      "Epoch 5/10\n",
      "3905/3905 [==============================] - 0s 5us/step - loss: 0.6446 - acc: 0.6036\n",
      "Epoch 6/10\n",
      "3905/3905 [==============================] - 0s 5us/step - loss: 0.6450 - acc: 0.6100\n",
      "Epoch 7/10\n",
      "3905/3905 [==============================] - 0s 5us/step - loss: 0.6433 - acc: 0.6113\n",
      "Epoch 8/10\n",
      "3905/3905 [==============================] - 0s 5us/step - loss: 0.6433 - acc: 0.6141\n",
      "Epoch 9/10\n",
      "3905/3905 [==============================] - 0s 5us/step - loss: 0.6421 - acc: 0.6125\n",
      "Epoch 10/10\n",
      "3905/3905 [==============================] - 0s 5us/step - loss: 0.6423 - acc: 0.6246\n"
     ]
    },
    {
     "data": {
      "text/plain": [
       "<keras.callbacks.History at 0x1a23f15b38>"
      ]
     },
     "execution_count": 27,
     "metadata": {},
     "output_type": "execute_result"
    }
   ],
   "source": [
    "nn = Build_Model()\n",
    "nn.fit(trn_data, trn_labl, epochs = 10, batch_size = 512)"
   ]
  },
  {
   "cell_type": "code",
   "execution_count": 28,
   "metadata": {},
   "outputs": [
    {
     "data": {
      "text/html": [
       "<div>\n",
       "<style scoped>\n",
       "    .dataframe tbody tr th:only-of-type {\n",
       "        vertical-align: middle;\n",
       "    }\n",
       "\n",
       "    .dataframe tbody tr th {\n",
       "        vertical-align: top;\n",
       "    }\n",
       "\n",
       "    .dataframe thead th {\n",
       "        text-align: right;\n",
       "    }\n",
       "</style>\n",
       "<table border=\"1\" class=\"dataframe\">\n",
       "  <thead>\n",
       "    <tr style=\"text-align: right;\">\n",
       "      <th></th>\n",
       "      <th>3905</th>\n",
       "      <th>3906</th>\n",
       "      <th>3907</th>\n",
       "      <th>3908</th>\n",
       "      <th>3909</th>\n",
       "      <th>3910</th>\n",
       "      <th>3911</th>\n",
       "      <th>3912</th>\n",
       "      <th>3913</th>\n",
       "      <th>3914</th>\n",
       "      <th>...</th>\n",
       "      <th>4329</th>\n",
       "      <th>4330</th>\n",
       "      <th>4331</th>\n",
       "      <th>4332</th>\n",
       "      <th>4333</th>\n",
       "      <th>4334</th>\n",
       "      <th>4335</th>\n",
       "      <th>4336</th>\n",
       "      <th>4337</th>\n",
       "      <th>4338</th>\n",
       "    </tr>\n",
       "  </thead>\n",
       "  <tbody>\n",
       "    <tr>\n",
       "      <th>label</th>\n",
       "      <td>1.00000</td>\n",
       "      <td>0.000000</td>\n",
       "      <td>1.000000</td>\n",
       "      <td>0.000000</td>\n",
       "      <td>0.00000</td>\n",
       "      <td>0.000000</td>\n",
       "      <td>0.000000</td>\n",
       "      <td>0.000000</td>\n",
       "      <td>1.000000</td>\n",
       "      <td>0.000000</td>\n",
       "      <td>...</td>\n",
       "      <td>1.000000</td>\n",
       "      <td>1.000000</td>\n",
       "      <td>0.000000</td>\n",
       "      <td>1.000000</td>\n",
       "      <td>1.00000</td>\n",
       "      <td>0.000000</td>\n",
       "      <td>1.000000</td>\n",
       "      <td>0.000000</td>\n",
       "      <td>0.000000</td>\n",
       "      <td>1.00000</td>\n",
       "    </tr>\n",
       "    <tr>\n",
       "      <th>pred</th>\n",
       "      <td>0.45569</td>\n",
       "      <td>0.463808</td>\n",
       "      <td>0.466067</td>\n",
       "      <td>0.464711</td>\n",
       "      <td>0.46634</td>\n",
       "      <td>0.439618</td>\n",
       "      <td>0.402451</td>\n",
       "      <td>0.385594</td>\n",
       "      <td>0.368771</td>\n",
       "      <td>0.455229</td>\n",
       "      <td>...</td>\n",
       "      <td>0.454163</td>\n",
       "      <td>0.455052</td>\n",
       "      <td>0.453794</td>\n",
       "      <td>0.451254</td>\n",
       "      <td>0.46553</td>\n",
       "      <td>0.464716</td>\n",
       "      <td>0.450379</td>\n",
       "      <td>0.468825</td>\n",
       "      <td>0.451077</td>\n",
       "      <td>0.42739</td>\n",
       "    </tr>\n",
       "  </tbody>\n",
       "</table>\n",
       "<p>2 rows × 434 columns</p>\n",
       "</div>"
      ],
      "text/plain": [
       "          3905      3906      3907      3908     3909      3910      3911  \\\n",
       "label  1.00000  0.000000  1.000000  0.000000  0.00000  0.000000  0.000000   \n",
       "pred   0.45569  0.463808  0.466067  0.464711  0.46634  0.439618  0.402451   \n",
       "\n",
       "           3912      3913      3914   ...         4329      4330      4331  \\\n",
       "label  0.000000  1.000000  0.000000   ...     1.000000  1.000000  0.000000   \n",
       "pred   0.385594  0.368771  0.455229   ...     0.454163  0.455052  0.453794   \n",
       "\n",
       "           4332     4333      4334      4335      4336      4337     4338  \n",
       "label  1.000000  1.00000  0.000000  1.000000  0.000000  0.000000  1.00000  \n",
       "pred   0.451254  0.46553  0.464716  0.450379  0.468825  0.451077  0.42739  \n",
       "\n",
       "[2 rows x 434 columns]"
      ]
     },
     "execution_count": 28,
     "metadata": {},
     "output_type": "execute_result"
    }
   ],
   "source": [
    "pred_prob = nn.predict_proba(tst_data)\n",
    "_ = deepcopy(tst_labl)\n",
    "_[\"pred\"] = pred_prob\n",
    "_.T"
   ]
  },
  {
   "cell_type": "code",
   "execution_count": 29,
   "metadata": {},
   "outputs": [
    {
     "data": {
      "text/html": [
       "<div>\n",
       "<style scoped>\n",
       "    .dataframe tbody tr th:only-of-type {\n",
       "        vertical-align: middle;\n",
       "    }\n",
       "\n",
       "    .dataframe tbody tr th {\n",
       "        vertical-align: top;\n",
       "    }\n",
       "\n",
       "    .dataframe thead th {\n",
       "        text-align: right;\n",
       "    }\n",
       "</style>\n",
       "<table border=\"1\" class=\"dataframe\">\n",
       "  <thead>\n",
       "    <tr style=\"text-align: right;\">\n",
       "      <th></th>\n",
       "      <th>3905</th>\n",
       "      <th>3907</th>\n",
       "      <th>3913</th>\n",
       "      <th>3917</th>\n",
       "      <th>3920</th>\n",
       "      <th>3921</th>\n",
       "      <th>3924</th>\n",
       "      <th>3926</th>\n",
       "      <th>3927</th>\n",
       "      <th>3928</th>\n",
       "      <th>...</th>\n",
       "      <th>4324</th>\n",
       "      <th>4325</th>\n",
       "      <th>4326</th>\n",
       "      <th>4327</th>\n",
       "      <th>4329</th>\n",
       "      <th>4330</th>\n",
       "      <th>4332</th>\n",
       "      <th>4333</th>\n",
       "      <th>4335</th>\n",
       "      <th>4338</th>\n",
       "    </tr>\n",
       "  </thead>\n",
       "  <tbody>\n",
       "    <tr>\n",
       "      <th>label</th>\n",
       "      <td>1.00000</td>\n",
       "      <td>1.000000</td>\n",
       "      <td>1.000000</td>\n",
       "      <td>1.000000</td>\n",
       "      <td>1.00000</td>\n",
       "      <td>1.000000</td>\n",
       "      <td>1.000000</td>\n",
       "      <td>1.000000</td>\n",
       "      <td>1.000000</td>\n",
       "      <td>1.000000</td>\n",
       "      <td>...</td>\n",
       "      <td>1.000000</td>\n",
       "      <td>1.000000</td>\n",
       "      <td>1.000000</td>\n",
       "      <td>1.000000</td>\n",
       "      <td>1.000000</td>\n",
       "      <td>1.000000</td>\n",
       "      <td>1.000000</td>\n",
       "      <td>1.00000</td>\n",
       "      <td>1.000000</td>\n",
       "      <td>1.00000</td>\n",
       "    </tr>\n",
       "    <tr>\n",
       "      <th>pred</th>\n",
       "      <td>0.45569</td>\n",
       "      <td>0.466067</td>\n",
       "      <td>0.368771</td>\n",
       "      <td>0.400907</td>\n",
       "      <td>0.40851</td>\n",
       "      <td>0.465609</td>\n",
       "      <td>0.432603</td>\n",
       "      <td>0.437728</td>\n",
       "      <td>0.466855</td>\n",
       "      <td>0.479808</td>\n",
       "      <td>...</td>\n",
       "      <td>0.448278</td>\n",
       "      <td>0.440349</td>\n",
       "      <td>0.452863</td>\n",
       "      <td>0.464915</td>\n",
       "      <td>0.454163</td>\n",
       "      <td>0.455052</td>\n",
       "      <td>0.451254</td>\n",
       "      <td>0.46553</td>\n",
       "      <td>0.450379</td>\n",
       "      <td>0.42739</td>\n",
       "    </tr>\n",
       "  </tbody>\n",
       "</table>\n",
       "<p>2 rows × 177 columns</p>\n",
       "</div>"
      ],
      "text/plain": [
       "          3905      3907      3913      3917     3920      3921      3924  \\\n",
       "label  1.00000  1.000000  1.000000  1.000000  1.00000  1.000000  1.000000   \n",
       "pred   0.45569  0.466067  0.368771  0.400907  0.40851  0.465609  0.432603   \n",
       "\n",
       "           3926      3927      3928   ...         4324      4325      4326  \\\n",
       "label  1.000000  1.000000  1.000000   ...     1.000000  1.000000  1.000000   \n",
       "pred   0.437728  0.466855  0.479808   ...     0.448278  0.440349  0.452863   \n",
       "\n",
       "           4327      4329      4330      4332     4333      4335     4338  \n",
       "label  1.000000  1.000000  1.000000  1.000000  1.00000  1.000000  1.00000  \n",
       "pred   0.464915  0.454163  0.455052  0.451254  0.46553  0.450379  0.42739  \n",
       "\n",
       "[2 rows x 177 columns]"
      ]
     },
     "execution_count": 29,
     "metadata": {},
     "output_type": "execute_result"
    }
   ],
   "source": [
    "_[_[key_label] == 1].T"
   ]
  },
  {
   "cell_type": "code",
   "execution_count": 30,
   "metadata": {},
   "outputs": [
    {
     "data": {
      "text/html": [
       "<div>\n",
       "<style scoped>\n",
       "    .dataframe tbody tr th:only-of-type {\n",
       "        vertical-align: middle;\n",
       "    }\n",
       "\n",
       "    .dataframe tbody tr th {\n",
       "        vertical-align: top;\n",
       "    }\n",
       "\n",
       "    .dataframe thead th {\n",
       "        text-align: right;\n",
       "    }\n",
       "</style>\n",
       "<table border=\"1\" class=\"dataframe\">\n",
       "  <thead>\n",
       "    <tr style=\"text-align: right;\">\n",
       "      <th></th>\n",
       "      <th>3905</th>\n",
       "      <th>3906</th>\n",
       "      <th>3907</th>\n",
       "      <th>3908</th>\n",
       "      <th>3909</th>\n",
       "      <th>3910</th>\n",
       "      <th>3911</th>\n",
       "      <th>3912</th>\n",
       "      <th>3913</th>\n",
       "      <th>3914</th>\n",
       "      <th>...</th>\n",
       "      <th>4329</th>\n",
       "      <th>4330</th>\n",
       "      <th>4331</th>\n",
       "      <th>4332</th>\n",
       "      <th>4333</th>\n",
       "      <th>4334</th>\n",
       "      <th>4335</th>\n",
       "      <th>4336</th>\n",
       "      <th>4337</th>\n",
       "      <th>4338</th>\n",
       "    </tr>\n",
       "  </thead>\n",
       "  <tbody>\n",
       "    <tr>\n",
       "      <th>label</th>\n",
       "      <td>1</td>\n",
       "      <td>0</td>\n",
       "      <td>1</td>\n",
       "      <td>0</td>\n",
       "      <td>0</td>\n",
       "      <td>0</td>\n",
       "      <td>0</td>\n",
       "      <td>0</td>\n",
       "      <td>1</td>\n",
       "      <td>0</td>\n",
       "      <td>...</td>\n",
       "      <td>1</td>\n",
       "      <td>1</td>\n",
       "      <td>0</td>\n",
       "      <td>1</td>\n",
       "      <td>1</td>\n",
       "      <td>0</td>\n",
       "      <td>1</td>\n",
       "      <td>0</td>\n",
       "      <td>0</td>\n",
       "      <td>1</td>\n",
       "    </tr>\n",
       "    <tr>\n",
       "      <th>pred_p</th>\n",
       "      <td>0.45569</td>\n",
       "      <td>0.463808</td>\n",
       "      <td>0.466067</td>\n",
       "      <td>0.464711</td>\n",
       "      <td>0.46634</td>\n",
       "      <td>0.439618</td>\n",
       "      <td>0.402451</td>\n",
       "      <td>0.385594</td>\n",
       "      <td>0.368771</td>\n",
       "      <td>0.455229</td>\n",
       "      <td>...</td>\n",
       "      <td>0.454163</td>\n",
       "      <td>0.455052</td>\n",
       "      <td>0.453794</td>\n",
       "      <td>0.451254</td>\n",
       "      <td>0.46553</td>\n",
       "      <td>0.464716</td>\n",
       "      <td>0.450379</td>\n",
       "      <td>0.468825</td>\n",
       "      <td>0.451077</td>\n",
       "      <td>0.42739</td>\n",
       "    </tr>\n",
       "    <tr>\n",
       "      <th>pred</th>\n",
       "      <td>False</td>\n",
       "      <td>False</td>\n",
       "      <td>False</td>\n",
       "      <td>False</td>\n",
       "      <td>False</td>\n",
       "      <td>False</td>\n",
       "      <td>False</td>\n",
       "      <td>False</td>\n",
       "      <td>False</td>\n",
       "      <td>False</td>\n",
       "      <td>...</td>\n",
       "      <td>False</td>\n",
       "      <td>False</td>\n",
       "      <td>False</td>\n",
       "      <td>False</td>\n",
       "      <td>False</td>\n",
       "      <td>False</td>\n",
       "      <td>False</td>\n",
       "      <td>False</td>\n",
       "      <td>False</td>\n",
       "      <td>False</td>\n",
       "    </tr>\n",
       "  </tbody>\n",
       "</table>\n",
       "<p>3 rows × 434 columns</p>\n",
       "</div>"
      ],
      "text/plain": [
       "           3905      3906      3907      3908     3909      3910      3911  \\\n",
       "label         1         0         1         0        0         0         0   \n",
       "pred_p  0.45569  0.463808  0.466067  0.464711  0.46634  0.439618  0.402451   \n",
       "pred      False     False     False     False    False     False     False   \n",
       "\n",
       "            3912      3913      3914   ...         4329      4330      4331  \\\n",
       "label          0         1         0   ...            1         1         0   \n",
       "pred_p  0.385594  0.368771  0.455229   ...     0.454163  0.455052  0.453794   \n",
       "pred       False     False     False   ...        False     False     False   \n",
       "\n",
       "            4332     4333      4334      4335      4336      4337     4338  \n",
       "label          1        1         0         1         0         0        1  \n",
       "pred_p  0.451254  0.46553  0.464716  0.450379  0.468825  0.451077  0.42739  \n",
       "pred       False    False     False     False     False     False    False  \n",
       "\n",
       "[3 rows x 434 columns]"
      ]
     },
     "execution_count": 30,
     "metadata": {},
     "output_type": "execute_result"
    }
   ],
   "source": [
    "pred = nn.predict(tst_data)\n",
    "_ = deepcopy(tst_labl)\n",
    "_[\"pred_p\"] = pred\n",
    "_[\"pred\"] = pred > 0.5\n",
    "_.T"
   ]
  },
  {
   "cell_type": "code",
   "execution_count": 31,
   "metadata": {},
   "outputs": [
    {
     "data": {
      "text/plain": [
       "label    0.605991\n",
       "dtype: float64"
      ]
     },
     "execution_count": 31,
     "metadata": {},
     "output_type": "execute_result"
    }
   ],
   "source": [
    "np.sum(tst_labl == (pred > 0.5)) / len(tst_labl)"
   ]
  },
  {
   "cell_type": "markdown",
   "metadata": {},
   "source": [
    "## Neural Net Cross Validation"
   ]
  },
  {
   "cell_type": "code",
   "execution_count": 32,
   "metadata": {},
   "outputs": [
    {
     "name": "stdout",
     "output_type": "stream",
     "text": [
      "Fold 1 val_loss 0.66512, val_acc 0.60246\n",
      "Fold 2 val_loss 0.65168, val_acc 0.62398\n",
      "Fold 3 val_loss 0.65565, val_acc 0.63012\n",
      "Fold 4 val_loss 0.63086, val_acc 0.65779\n"
     ]
    }
   ],
   "source": [
    "k = 4\n",
    "num_val_samples = len(trn_data) // k\n",
    "num_epochs = 80\n",
    "batch_size = 256\n",
    "all_scores = []\n",
    "all_val_loss_history = []\n",
    "all_val_acc_history = []\n",
    "\n",
    "for i in range(k):\n",
    "    print('processing fold %i'%(i + 1), end=\"\\r\")\n",
    "    val_data = trn_data[i * num_val_samples : (i + 1) * num_val_samples]\n",
    "    val_labl = trn_labl[i * num_val_samples : (i + 1) * num_val_samples]\n",
    "    \n",
    "    prt_trn_data = np.concatenate([trn_data[:i * num_val_samples],\n",
    "                                  trn_data[(i + 1) * num_val_samples:]], axis = 0)\n",
    "    prt_trn_labl = np.concatenate([trn_labl[:i * num_val_samples],\n",
    "                                  trn_labl[(i + 1) * num_val_samples:]], axis = 0)\n",
    "    \n",
    "    model = Build_Model()\n",
    "    history = model.fit(prt_trn_data, prt_trn_labl, \n",
    "                        validation_data = (val_data, val_labl),\n",
    "                        epochs = num_epochs, batch_size = batch_size, verbose = 0)\n",
    "    \n",
    "    all_val_loss_history.append(history.history['val_loss'])\n",
    "    all_val_acc_history.append(history.history['val_acc'])\n",
    "    \n",
    "    val_l, val_a = model.evaluate(val_data, val_labl, verbose = 0)\n",
    "    print(\"Fold %i val_loss %.5f, val_acc %.5f\"%(i + 1, val_l, val_a))\n",
    "    all_scores.append(val_a)"
   ]
  },
  {
   "cell_type": "code",
   "execution_count": 33,
   "metadata": {},
   "outputs": [],
   "source": [
    "avg_val_loss_hist = [np.mean([x[i] for x in all_val_loss_history]) for i in range(num_epochs)]\n",
    "avg_val_acc_hist = [np.mean([x[i] for x in all_val_acc_history]) for i in range(num_epochs)]"
   ]
  },
  {
   "cell_type": "code",
   "execution_count": 34,
   "metadata": {},
   "outputs": [
    {
     "data": {
      "image/png": "[encoded data removed]",
      "text/plain": [
       "<Figure size 864x288 with 1 Axes>"
      ]
     },
     "metadata": {},
     "output_type": "display_data"
    }
   ],
   "source": [
    "plt.plot(range(1, len(avg_val_loss_hist) + 1), avg_val_loss_hist)\n",
    "plt.xlabel(\"Epochs\")\n",
    "plt.ylabel(\"Val Loss\")\n",
    "plt.title(\"Learning Curve\")\n",
    "plt.savefig(os.path.join(cwd, \"fig\", \"learning_curve.png\"))\n",
    "plt.show()"
   ]
  },
  {
   "cell_type": "code",
   "execution_count": 35,
   "metadata": {
    "scrolled": true
   },
   "outputs": [
    {
     "data": {
      "image/png": "[encoded data removed]",
      "text/plain": [
       "<Figure size 864x288 with 1 Axes>"
      ]
     },
     "metadata": {},
     "output_type": "display_data"
    }
   ],
   "source": [
    "plt.plot(range(1, len(avg_val_acc_hist) + 1), avg_val_acc_hist)\n",
    "plt.xlabel(\"Epochs\")\n",
    "plt.ylabel(\"Val Accuracy\")\n",
    "plt.title(\"Validation Accuracy\")\n",
    "plt.savefig(os.path.join(cwd, \"fig\", \"validation_accuracy.png\"))\n",
    "plt.show()"
   ]
  },
  {
   "cell_type": "markdown",
   "metadata": {},
   "source": [
    "## Final Model"
   ]
  },
  {
   "cell_type": "code",
   "execution_count": 36,
   "metadata": {},
   "outputs": [],
   "source": [
    "num_epochs = 80\n",
    "batch_size = 256\n",
    "threshold = 0.45\n",
    "model = Build_Model()\n",
    "history = model.fit(trn_data, trn_labl,\n",
    "                    validation_data = (tst_data, tst_labl),\n",
    "                    epochs = num_epochs, batch_size = batch_size, verbose = 0)"
   ]
  },
  {
   "cell_type": "code",
   "execution_count": 37,
   "metadata": {},
   "outputs": [
    {
     "data": {
      "text/html": [
       "<div>\n",
       "<style scoped>\n",
       "    .dataframe tbody tr th:only-of-type {\n",
       "        vertical-align: middle;\n",
       "    }\n",
       "\n",
       "    .dataframe tbody tr th {\n",
       "        vertical-align: top;\n",
       "    }\n",
       "\n",
       "    .dataframe thead th {\n",
       "        text-align: right;\n",
       "    }\n",
       "</style>\n",
       "<table border=\"1\" class=\"dataframe\">\n",
       "  <thead>\n",
       "    <tr style=\"text-align: right;\">\n",
       "      <th></th>\n",
       "      <th>3905</th>\n",
       "      <th>3906</th>\n",
       "      <th>3907</th>\n",
       "      <th>3908</th>\n",
       "      <th>3909</th>\n",
       "      <th>3910</th>\n",
       "      <th>3911</th>\n",
       "      <th>3912</th>\n",
       "      <th>3913</th>\n",
       "      <th>3914</th>\n",
       "      <th>...</th>\n",
       "      <th>4329</th>\n",
       "      <th>4330</th>\n",
       "      <th>4331</th>\n",
       "      <th>4332</th>\n",
       "      <th>4333</th>\n",
       "      <th>4334</th>\n",
       "      <th>4335</th>\n",
       "      <th>4336</th>\n",
       "      <th>4337</th>\n",
       "      <th>4338</th>\n",
       "    </tr>\n",
       "  </thead>\n",
       "  <tbody>\n",
       "    <tr>\n",
       "      <th>label</th>\n",
       "      <td>1</td>\n",
       "      <td>0</td>\n",
       "      <td>1</td>\n",
       "      <td>0</td>\n",
       "      <td>0</td>\n",
       "      <td>0</td>\n",
       "      <td>0</td>\n",
       "      <td>0</td>\n",
       "      <td>1</td>\n",
       "      <td>0</td>\n",
       "      <td>...</td>\n",
       "      <td>1</td>\n",
       "      <td>1</td>\n",
       "      <td>0</td>\n",
       "      <td>1</td>\n",
       "      <td>1</td>\n",
       "      <td>0</td>\n",
       "      <td>1</td>\n",
       "      <td>0</td>\n",
       "      <td>0</td>\n",
       "      <td>1</td>\n",
       "    </tr>\n",
       "    <tr>\n",
       "      <th>pred_p</th>\n",
       "      <td>0.488881</td>\n",
       "      <td>0.470419</td>\n",
       "      <td>0.487719</td>\n",
       "      <td>0.471598</td>\n",
       "      <td>0.48866</td>\n",
       "      <td>0.480331</td>\n",
       "      <td>0.446712</td>\n",
       "      <td>0.427128</td>\n",
       "      <td>0.410314</td>\n",
       "      <td>0.459359</td>\n",
       "      <td>...</td>\n",
       "      <td>0.475876</td>\n",
       "      <td>0.454391</td>\n",
       "      <td>0.474212</td>\n",
       "      <td>0.472979</td>\n",
       "      <td>0.469069</td>\n",
       "      <td>0.461668</td>\n",
       "      <td>0.473422</td>\n",
       "      <td>0.467315</td>\n",
       "      <td>0.478869</td>\n",
       "      <td>0.467418</td>\n",
       "    </tr>\n",
       "    <tr>\n",
       "      <th>pred</th>\n",
       "      <td>True</td>\n",
       "      <td>True</td>\n",
       "      <td>True</td>\n",
       "      <td>True</td>\n",
       "      <td>True</td>\n",
       "      <td>True</td>\n",
       "      <td>False</td>\n",
       "      <td>False</td>\n",
       "      <td>False</td>\n",
       "      <td>True</td>\n",
       "      <td>...</td>\n",
       "      <td>True</td>\n",
       "      <td>True</td>\n",
       "      <td>True</td>\n",
       "      <td>True</td>\n",
       "      <td>True</td>\n",
       "      <td>True</td>\n",
       "      <td>True</td>\n",
       "      <td>True</td>\n",
       "      <td>True</td>\n",
       "      <td>True</td>\n",
       "    </tr>\n",
       "  </tbody>\n",
       "</table>\n",
       "<p>3 rows × 434 columns</p>\n",
       "</div>"
      ],
      "text/plain": [
       "            3905      3906      3907      3908     3909      3910      3911  \\\n",
       "label          1         0         1         0        0         0         0   \n",
       "pred_p  0.488881  0.470419  0.487719  0.471598  0.48866  0.480331  0.446712   \n",
       "pred        True      True      True      True     True      True     False   \n",
       "\n",
       "            3912      3913      3914    ...         4329      4330      4331  \\\n",
       "label          0         1         0    ...            1         1         0   \n",
       "pred_p  0.427128  0.410314  0.459359    ...     0.475876  0.454391  0.474212   \n",
       "pred       False     False      True    ...         True      True      True   \n",
       "\n",
       "            4332      4333      4334      4335      4336      4337      4338  \n",
       "label          1         1         0         1         0         0         1  \n",
       "pred_p  0.472979  0.469069  0.461668  0.473422  0.467315  0.478869  0.467418  \n",
       "pred        True      True      True      True      True      True      True  \n",
       "\n",
       "[3 rows x 434 columns]"
      ]
     },
     "execution_count": 37,
     "metadata": {},
     "output_type": "execute_result"
    }
   ],
   "source": [
    "pred = model.predict(tst_data)\n",
    "_ = deepcopy(tst_labl)\n",
    "_[\"pred_p\"] = pred\n",
    "_[\"pred\"] = pred > threshold\n",
    "_.T"
   ]
  },
  {
   "cell_type": "code",
   "execution_count": 38,
   "metadata": {},
   "outputs": [
    {
     "data": {
      "text/html": [
       "<div>\n",
       "<style scoped>\n",
       "    .dataframe tbody tr th:only-of-type {\n",
       "        vertical-align: middle;\n",
       "    }\n",
       "\n",
       "    .dataframe tbody tr th {\n",
       "        vertical-align: top;\n",
       "    }\n",
       "\n",
       "    .dataframe thead th {\n",
       "        text-align: right;\n",
       "    }\n",
       "</style>\n",
       "<table border=\"1\" class=\"dataframe\">\n",
       "  <thead>\n",
       "    <tr style=\"text-align: right;\">\n",
       "      <th></th>\n",
       "      <th>3905</th>\n",
       "      <th>3907</th>\n",
       "      <th>3913</th>\n",
       "      <th>3917</th>\n",
       "      <th>3920</th>\n",
       "      <th>3921</th>\n",
       "      <th>3924</th>\n",
       "      <th>3926</th>\n",
       "      <th>3927</th>\n",
       "      <th>3928</th>\n",
       "      <th>...</th>\n",
       "      <th>4324</th>\n",
       "      <th>4325</th>\n",
       "      <th>4326</th>\n",
       "      <th>4327</th>\n",
       "      <th>4329</th>\n",
       "      <th>4330</th>\n",
       "      <th>4332</th>\n",
       "      <th>4333</th>\n",
       "      <th>4335</th>\n",
       "      <th>4338</th>\n",
       "    </tr>\n",
       "  </thead>\n",
       "  <tbody>\n",
       "    <tr>\n",
       "      <th>label</th>\n",
       "      <td>1</td>\n",
       "      <td>1</td>\n",
       "      <td>1</td>\n",
       "      <td>1</td>\n",
       "      <td>1</td>\n",
       "      <td>1</td>\n",
       "      <td>1</td>\n",
       "      <td>1</td>\n",
       "      <td>1</td>\n",
       "      <td>1</td>\n",
       "      <td>...</td>\n",
       "      <td>1</td>\n",
       "      <td>1</td>\n",
       "      <td>1</td>\n",
       "      <td>1</td>\n",
       "      <td>1</td>\n",
       "      <td>1</td>\n",
       "      <td>1</td>\n",
       "      <td>1</td>\n",
       "      <td>1</td>\n",
       "      <td>1</td>\n",
       "    </tr>\n",
       "    <tr>\n",
       "      <th>pred_p</th>\n",
       "      <td>0.488881</td>\n",
       "      <td>0.487719</td>\n",
       "      <td>0.410314</td>\n",
       "      <td>0.444094</td>\n",
       "      <td>0.451999</td>\n",
       "      <td>0.462896</td>\n",
       "      <td>0.473065</td>\n",
       "      <td>0.466165</td>\n",
       "      <td>0.464607</td>\n",
       "      <td>0.502853</td>\n",
       "      <td>...</td>\n",
       "      <td>0.436813</td>\n",
       "      <td>0.43832</td>\n",
       "      <td>0.452042</td>\n",
       "      <td>0.473931</td>\n",
       "      <td>0.475876</td>\n",
       "      <td>0.454391</td>\n",
       "      <td>0.472979</td>\n",
       "      <td>0.469069</td>\n",
       "      <td>0.473422</td>\n",
       "      <td>0.467418</td>\n",
       "    </tr>\n",
       "    <tr>\n",
       "      <th>pred</th>\n",
       "      <td>True</td>\n",
       "      <td>True</td>\n",
       "      <td>False</td>\n",
       "      <td>False</td>\n",
       "      <td>True</td>\n",
       "      <td>True</td>\n",
       "      <td>True</td>\n",
       "      <td>True</td>\n",
       "      <td>True</td>\n",
       "      <td>True</td>\n",
       "      <td>...</td>\n",
       "      <td>False</td>\n",
       "      <td>False</td>\n",
       "      <td>True</td>\n",
       "      <td>True</td>\n",
       "      <td>True</td>\n",
       "      <td>True</td>\n",
       "      <td>True</td>\n",
       "      <td>True</td>\n",
       "      <td>True</td>\n",
       "      <td>True</td>\n",
       "    </tr>\n",
       "  </tbody>\n",
       "</table>\n",
       "<p>3 rows × 177 columns</p>\n",
       "</div>"
      ],
      "text/plain": [
       "            3905      3907      3913      3917      3920      3921      3924  \\\n",
       "label          1         1         1         1         1         1         1   \n",
       "pred_p  0.488881  0.487719  0.410314  0.444094  0.451999  0.462896  0.473065   \n",
       "pred        True      True     False     False      True      True      True   \n",
       "\n",
       "            3926      3927      3928    ...         4324     4325      4326  \\\n",
       "label          1         1         1    ...            1        1         1   \n",
       "pred_p  0.466165  0.464607  0.502853    ...     0.436813  0.43832  0.452042   \n",
       "pred        True      True      True    ...        False    False      True   \n",
       "\n",
       "            4327      4329      4330      4332      4333      4335      4338  \n",
       "label          1         1         1         1         1         1         1  \n",
       "pred_p  0.473931  0.475876  0.454391  0.472979  0.469069  0.473422  0.467418  \n",
       "pred        True      True      True      True      True      True      True  \n",
       "\n",
       "[3 rows x 177 columns]"
      ]
     },
     "execution_count": 38,
     "metadata": {},
     "output_type": "execute_result"
    }
   ],
   "source": [
    "_[_[key_label] == 1].T"
   ]
  },
  {
   "cell_type": "code",
   "execution_count": 39,
   "metadata": {},
   "outputs": [
    {
     "data": {
      "text/html": [
       "<div>\n",
       "<style scoped>\n",
       "    .dataframe tbody tr th:only-of-type {\n",
       "        vertical-align: middle;\n",
       "    }\n",
       "\n",
       "    .dataframe tbody tr th {\n",
       "        vertical-align: top;\n",
       "    }\n",
       "\n",
       "    .dataframe thead th {\n",
       "        text-align: right;\n",
       "    }\n",
       "</style>\n",
       "<table border=\"1\" class=\"dataframe\">\n",
       "  <thead>\n",
       "    <tr style=\"text-align: right;\">\n",
       "      <th></th>\n",
       "      <th>3906</th>\n",
       "      <th>3908</th>\n",
       "      <th>3909</th>\n",
       "      <th>3910</th>\n",
       "      <th>3911</th>\n",
       "      <th>3912</th>\n",
       "      <th>3914</th>\n",
       "      <th>3915</th>\n",
       "      <th>3916</th>\n",
       "      <th>3918</th>\n",
       "      <th>...</th>\n",
       "      <th>4309</th>\n",
       "      <th>4310</th>\n",
       "      <th>4312</th>\n",
       "      <th>4317</th>\n",
       "      <th>4319</th>\n",
       "      <th>4328</th>\n",
       "      <th>4331</th>\n",
       "      <th>4334</th>\n",
       "      <th>4336</th>\n",
       "      <th>4337</th>\n",
       "    </tr>\n",
       "  </thead>\n",
       "  <tbody>\n",
       "    <tr>\n",
       "      <th>label</th>\n",
       "      <td>0</td>\n",
       "      <td>0</td>\n",
       "      <td>0</td>\n",
       "      <td>0</td>\n",
       "      <td>0</td>\n",
       "      <td>0</td>\n",
       "      <td>0</td>\n",
       "      <td>0</td>\n",
       "      <td>0</td>\n",
       "      <td>0</td>\n",
       "      <td>...</td>\n",
       "      <td>0</td>\n",
       "      <td>0</td>\n",
       "      <td>0</td>\n",
       "      <td>0</td>\n",
       "      <td>0</td>\n",
       "      <td>0</td>\n",
       "      <td>0</td>\n",
       "      <td>0</td>\n",
       "      <td>0</td>\n",
       "      <td>0</td>\n",
       "    </tr>\n",
       "    <tr>\n",
       "      <th>pred_p</th>\n",
       "      <td>0.470419</td>\n",
       "      <td>0.471598</td>\n",
       "      <td>0.48866</td>\n",
       "      <td>0.480331</td>\n",
       "      <td>0.446712</td>\n",
       "      <td>0.427128</td>\n",
       "      <td>0.459359</td>\n",
       "      <td>0.485457</td>\n",
       "      <td>0.474239</td>\n",
       "      <td>0.498638</td>\n",
       "      <td>...</td>\n",
       "      <td>0.333558</td>\n",
       "      <td>0.346087</td>\n",
       "      <td>0.341973</td>\n",
       "      <td>0.397327</td>\n",
       "      <td>0.400212</td>\n",
       "      <td>0.457364</td>\n",
       "      <td>0.474212</td>\n",
       "      <td>0.461668</td>\n",
       "      <td>0.467315</td>\n",
       "      <td>0.478869</td>\n",
       "    </tr>\n",
       "    <tr>\n",
       "      <th>pred</th>\n",
       "      <td>True</td>\n",
       "      <td>True</td>\n",
       "      <td>True</td>\n",
       "      <td>True</td>\n",
       "      <td>False</td>\n",
       "      <td>False</td>\n",
       "      <td>True</td>\n",
       "      <td>True</td>\n",
       "      <td>True</td>\n",
       "      <td>True</td>\n",
       "      <td>...</td>\n",
       "      <td>False</td>\n",
       "      <td>False</td>\n",
       "      <td>False</td>\n",
       "      <td>False</td>\n",
       "      <td>False</td>\n",
       "      <td>True</td>\n",
       "      <td>True</td>\n",
       "      <td>True</td>\n",
       "      <td>True</td>\n",
       "      <td>True</td>\n",
       "    </tr>\n",
       "  </tbody>\n",
       "</table>\n",
       "<p>3 rows × 257 columns</p>\n",
       "</div>"
      ],
      "text/plain": [
       "            3906      3908     3909      3910      3911      3912      3914  \\\n",
       "label          0         0        0         0         0         0         0   \n",
       "pred_p  0.470419  0.471598  0.48866  0.480331  0.446712  0.427128  0.459359   \n",
       "pred        True      True     True      True     False     False      True   \n",
       "\n",
       "            3915      3916      3918    ...         4309      4310      4312  \\\n",
       "label          0         0         0    ...            0         0         0   \n",
       "pred_p  0.485457  0.474239  0.498638    ...     0.333558  0.346087  0.341973   \n",
       "pred        True      True      True    ...        False     False     False   \n",
       "\n",
       "            4317      4319      4328      4331      4334      4336      4337  \n",
       "label          0         0         0         0         0         0         0  \n",
       "pred_p  0.397327  0.400212  0.457364  0.474212  0.461668  0.467315  0.478869  \n",
       "pred       False     False      True      True      True      True      True  \n",
       "\n",
       "[3 rows x 257 columns]"
      ]
     },
     "execution_count": 39,
     "metadata": {},
     "output_type": "execute_result"
    }
   ],
   "source": [
    "_[_[key_label] == 0].T"
   ]
  },
  {
   "cell_type": "markdown",
   "metadata": {},
   "source": [
    "## Analysis"
   ]
  },
  {
   "cell_type": "code",
   "execution_count": 40,
   "metadata": {},
   "outputs": [
    {
     "name": "stdout",
     "output_type": "stream",
     "text": [
      "baseline = 0.59217\n",
      "tp = 123\n",
      "tn = 179\n",
      "fp = 78\n",
      "fn = 54\n",
      "precision = 0.61194\n",
      "recall = 0.69492\n",
      "accuracy = 0.69585\n",
      "TPR = 0.69492\n",
      "FPR = 0.30350\n"
     ]
    }
   ],
   "source": [
    "summary = analysis.err_analyze(tst_labl.values, pred, threshold, verbose = True)"
   ]
  },
  {
   "cell_type": "code",
   "execution_count": 41,
   "metadata": {},
   "outputs": [
    {
     "data": {
      "image/png": "[encoded data removed]",
      "text/plain": [
       "<Figure size 864x288 with 1 Axes>"
      ]
     },
     "metadata": {},
     "output_type": "display_data"
    }
   ],
   "source": [
    "tprs, fprs, ts = analysis.discretize(tst_labl.values, pred, n = 100)\n",
    "analysis.plot_roc_curve(fprs, tprs, save_path = os.path.join(cwd, \"fig\", \"roc.png\"))"
   ]
  },
  {
   "cell_type": "code",
   "execution_count": 42,
   "metadata": {},
   "outputs": [
    {
     "data": {
      "image/png": "[encoded data removed]",
      "text/plain": [
       "<Figure size 864x288 with 1 Axes>"
      ]
     },
     "metadata": {},
     "output_type": "display_data"
    }
   ],
   "source": [
    "plt.hist(pred, 20)\n",
    "plt.title(\"Prediction Distribution\")\n",
    "plt.xlabel(\"Probability\")\n",
    "plt.ylabel(\"Count\")\n",
    "plt.savefig(os.path.join(cwd, \"fig\", \"predict_prob.png\"))"
   ]
  }
 ],
 "metadata": {
  "kernelspec": {
   "display_name": "Python 3",
   "language": "python",
   "name": "python3"
  },
  "language_info": {
   "codemirror_mode": {
    "name": "ipython",
    "version": 3
   },
   "file_extension": ".py",
   "mimetype": "text/x-python",
   "name": "python",
   "nbconvert_exporter": "python",
   "pygments_lexer": "ipython3",
   "version": "3.6.5"
  }
 },
 "nbformat": 4,
 "nbformat_minor": 2
}
