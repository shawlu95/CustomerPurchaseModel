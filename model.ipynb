{
 "cells": [
  {
   "cell_type": "markdown",
   "metadata": {},
   "source": [
    "## Summary\n",
    "#### Dataset\n",
    "* This dataset tries to capture customer purchase behavior in __baby__ category. \n",
    "* This dataset includes __100__ mother users from the mother cluster, resulting from K-means clustering based on purchase history.\n",
    "* The K-means clustering was performed on top __20%__ users of year 2017.\n",
    "* For each dataset, datapoint was sampled at uniform time interval (7 days).\n",
    "* For each sampled reference time, the sample is labelled __1__ if user placed an order in __baby__ category within __7 days__. Otherwise it's labelled __0__.\n",
    "\n",
    "#### Features\n",
    "- [x] Exponential moving averages of aggregate spending (ema)\n",
    "- [o] Average days between orders (dpo)\n",
    "- [x] Average days per quantity purchased (dpq)\n",
    "- [o] Days since last purchase in all categories (dsl)\n",
    "- [x] Average browse between consecutive purchases in all categories (bpo, bpo_e)\n",
    "- [x] Average browse per quantity purchased (bpq)\n",
    "- [x] Browse since most recent purchase (bsl)\n",
    "- [x] Average GMV per day between consecutive purchases (gpo, gpo_e)\n",
    "- [x] GMV / order (gpo)\n",
    "- [x] GMV / quantity (gpq)\n",
    "- [x] GMV / day = (GMV / order) / (day / order) (gpd)\n",
    "- [x] GMV per day since most recent purchase in category (gsl)\n",
    "\n",
    "#### Model\n",
    "* 3-Layered Neural Net\n",
    "* See def Build_Model() for details\n",
    "* __Only 2 features are included__: days per order (gpo), days since last order (dsl)\n",
    "\n",
    "#### Performance\n",
    "* baseline = 0.59217\n",
    "* True positive(tp) = 77\n",
    "* True negative(tn) = 213\n",
    "* False positive(fp) = 44\n",
    "* False negative(fn) = 100\n",
    "* precision = 0.63636\n",
    "* recall = 0.43503\n",
    "* accuracy = 0.66820\n",
    "* True Positive Rate(TPR) = 0.43503\n",
    "* False Positive Rate(FPR) = 0.17121"
   ]
  },
  {
   "cell_type": "code",
   "execution_count": 1,
   "metadata": {},
   "outputs": [],
   "source": [
    "%run -i 'py/load_libraries.py'"
   ]
  },
  {
   "cell_type": "markdown",
   "metadata": {},
   "source": [
    "## Load Dataset"
   ]
  },
  {
   "cell_type": "code",
   "execution_count": 2,
   "metadata": {},
   "outputs": [],
   "source": [
    "file_prefix = \"sl_2017_18_jul_baby_dsl_dpo\"\n",
    "sub_dir = \"data\""
   ]
  },
  {
   "cell_type": "code",
   "execution_count": 3,
   "metadata": {},
   "outputs": [
    {
     "name": "stdout",
     "output_type": "stream",
     "text": [
      "(70568, 6)\n"
     ]
    }
   ],
   "source": [
    "path = os.path.join(cwd, sub_dir, file_prefix + \".csv\")\n",
    "df = pd.read_csv(path, sep = \",\")\n",
    "\n",
    "print(df.shape)"
   ]
  },
  {
   "cell_type": "code",
   "execution_count": 4,
   "metadata": {},
   "outputs": [
    {
     "data": {
      "text/plain": [
       "(0, 6)"
      ]
     },
     "execution_count": 4,
     "metadata": {},
     "output_type": "execute_result"
    }
   ],
   "source": [
    "nans = lambda df: df[df.isnull().any(axis=1)]\n",
    "nans(df).shape"
   ]
  },
  {
   "cell_type": "code",
   "execution_count": 5,
   "metadata": {},
   "outputs": [],
   "source": [
    "df_inspect = pd.DataFrame(columns = df.columns.insert(0, \"note\"))\n",
    "\n",
    "min_ = np.min(df, axis = 0)\n",
    "min_[\"note\"] = \"min\"\n",
    "df_inspect = df_inspect.append(min_, ignore_index=True)\n",
    "\n",
    "pct_25 = {df.columns[i] : np.percentile(df, 25, axis = 0)[i] for i in range(len(np.percentile(df, 25, axis = 0)))}\n",
    "pct_25[\"note\"] = \"pct_25\"\n",
    "df_inspect = df_inspect.append(pct_25, ignore_index=True)\n",
    "\n",
    "pct_50 = {df.columns[i] : np.percentile(df, 50, axis = 0)[i] for i in range(len(np.percentile(df, 25, axis = 0)))}\n",
    "pct_50[\"note\"] = \"pct_50\"\n",
    "df_inspect = df_inspect.append(pct_50, ignore_index=True)\n",
    "\n",
    "pct_75 = {df.columns[i] : np.percentile(df, 75, axis = 0)[i] for i in range(len(np.percentile(df, 25, axis = 0)))}\n",
    "pct_75[\"note\"] = \"pct_75\"\n",
    "df_inspect = df_inspect.append(pct_75, ignore_index=True)\n",
    "\n",
    "max_ = np.max(df, axis = 0)\n",
    "max_[\"note\"] = \"max\"\n",
    "df_inspect = df_inspect.append(max_, ignore_index=True)\n",
    "\n",
    "mu_ = np.mean(df, axis = 0)\n",
    "mu_[\"note\"] = \"mean\"\n",
    "df_inspect = df_inspect.append(mu_, ignore_index=True)\n",
    "\n",
    "std_ = np.std(df, axis = 0)\n",
    "std_[\"note\"] = \"std\"\n",
    "df_inspect = df_inspect.append(std_, ignore_index=True)\n",
    "\n",
    "nan = {df.columns[i] : len(nans(df[[df.columns[i]]])) * 100 / len(df) for i in range(len(df.columns))}\n",
    "nan[\"note\"] = \"nan\"\n",
    "df_inspect = df_inspect.append(nan, ignore_index=True)\n",
    "\n",
    "inf = {df.columns[i] : len(df[np.isinf(df[df.columns[i]])]) * 100 / len(df) for i in range(len(df.columns))}\n",
    "inf[\"note\"] = \"inf\"\n",
    "df_inspect = df_inspect.append(inf, ignore_index=True)"
   ]
  },
  {
   "cell_type": "code",
   "execution_count": 6,
   "metadata": {},
   "outputs": [
    {
     "data": {
      "text/html": [
       "<div>\n",
       "<style scoped>\n",
       "    .dataframe tbody tr th:only-of-type {\n",
       "        vertical-align: middle;\n",
       "    }\n",
       "\n",
       "    .dataframe tbody tr th {\n",
       "        vertical-align: top;\n",
       "    }\n",
       "\n",
       "    .dataframe thead th {\n",
       "        text-align: right;\n",
       "    }\n",
       "</style>\n",
       "<table border=\"1\" class=\"dataframe\">\n",
       "  <thead>\n",
       "    <tr style=\"text-align: right;\">\n",
       "      <th>note</th>\n",
       "      <th>min</th>\n",
       "      <th>pct_25</th>\n",
       "      <th>pct_50</th>\n",
       "      <th>pct_75</th>\n",
       "      <th>max</th>\n",
       "      <th>mean</th>\n",
       "      <th>std</th>\n",
       "      <th>nan</th>\n",
       "      <th>inf</th>\n",
       "    </tr>\n",
       "  </thead>\n",
       "  <tbody>\n",
       "    <tr>\n",
       "      <th>member_srl</th>\n",
       "      <td>16953.0</td>\n",
       "      <td>6820587.00</td>\n",
       "      <td>23571707.0</td>\n",
       "      <td>75631849.00</td>\n",
       "      <td>113113444.0</td>\n",
       "      <td>4.125107e+07</td>\n",
       "      <td>4.014887e+07</td>\n",
       "      <td>0.0</td>\n",
       "      <td>0.0</td>\n",
       "    </tr>\n",
       "    <tr>\n",
       "      <th>ref_dt</th>\n",
       "      <td>20170707.0</td>\n",
       "      <td>20171107.00</td>\n",
       "      <td>20180122.0</td>\n",
       "      <td>20180407.00</td>\n",
       "      <td>20180622.0</td>\n",
       "      <td>2.017633e+07</td>\n",
       "      <td>4.627944e+03</td>\n",
       "      <td>0.0</td>\n",
       "      <td>0.0</td>\n",
       "    </tr>\n",
       "    <tr>\n",
       "      <th>rct_dt</th>\n",
       "      <td>20170701.0</td>\n",
       "      <td>20170918.00</td>\n",
       "      <td>20171210.0</td>\n",
       "      <td>20180303.00</td>\n",
       "      <td>20180622.0</td>\n",
       "      <td>2.017504e+07</td>\n",
       "      <td>4.642598e+03</td>\n",
       "      <td>0.0</td>\n",
       "      <td>0.0</td>\n",
       "    </tr>\n",
       "    <tr>\n",
       "      <th>dsl</th>\n",
       "      <td>0.0</td>\n",
       "      <td>6.00</td>\n",
       "      <td>18.0</td>\n",
       "      <td>45.00</td>\n",
       "      <td>351.0</td>\n",
       "      <td>3.479024e+01</td>\n",
       "      <td>4.457474e+01</td>\n",
       "      <td>0.0</td>\n",
       "      <td>0.0</td>\n",
       "    </tr>\n",
       "    <tr>\n",
       "      <th>dpo</th>\n",
       "      <td>0.0</td>\n",
       "      <td>4.75</td>\n",
       "      <td>13.3</td>\n",
       "      <td>23.75</td>\n",
       "      <td>157.5</td>\n",
       "      <td>1.687939e+01</td>\n",
       "      <td>1.672651e+01</td>\n",
       "      <td>0.0</td>\n",
       "      <td>0.0</td>\n",
       "    </tr>\n",
       "    <tr>\n",
       "      <th>label</th>\n",
       "      <td>0.0</td>\n",
       "      <td>0.00</td>\n",
       "      <td>0.0</td>\n",
       "      <td>1.00</td>\n",
       "      <td>1.0</td>\n",
       "      <td>4.094065e-01</td>\n",
       "      <td>4.917243e-01</td>\n",
       "      <td>0.0</td>\n",
       "      <td>0.0</td>\n",
       "    </tr>\n",
       "  </tbody>\n",
       "</table>\n",
       "</div>"
      ],
      "text/plain": [
       "note               min       pct_25      pct_50       pct_75          max  \\\n",
       "member_srl     16953.0   6820587.00  23571707.0  75631849.00  113113444.0   \n",
       "ref_dt      20170707.0  20171107.00  20180122.0  20180407.00   20180622.0   \n",
       "rct_dt      20170701.0  20170918.00  20171210.0  20180303.00   20180622.0   \n",
       "dsl                0.0         6.00        18.0        45.00        351.0   \n",
       "dpo                0.0         4.75        13.3        23.75        157.5   \n",
       "label              0.0         0.00         0.0         1.00          1.0   \n",
       "\n",
       "note                mean           std  nan  inf  \n",
       "member_srl  4.125107e+07  4.014887e+07  0.0  0.0  \n",
       "ref_dt      2.017633e+07  4.627944e+03  0.0  0.0  \n",
       "rct_dt      2.017504e+07  4.642598e+03  0.0  0.0  \n",
       "dsl         3.479024e+01  4.457474e+01  0.0  0.0  \n",
       "dpo         1.687939e+01  1.672651e+01  0.0  0.0  \n",
       "label       4.094065e-01  4.917243e-01  0.0  0.0  "
      ]
     },
     "execution_count": 6,
     "metadata": {},
     "output_type": "execute_result"
    }
   ],
   "source": [
    "df_inspect.set_index(\"note\").T"
   ]
  },
  {
   "cell_type": "markdown",
   "metadata": {},
   "source": [
    "## Preprocessing"
   ]
  },
  {
   "cell_type": "code",
   "execution_count": 7,
   "metadata": {},
   "outputs": [],
   "source": [
    "# drop bad features here\n",
    "df = df.drop([key_srl, \"ref_dt\", \"rct_dt\"], axis = 1)"
   ]
  },
  {
   "cell_type": "code",
   "execution_count": 8,
   "metadata": {},
   "outputs": [
    {
     "name": "stdout",
     "output_type": "stream",
     "text": [
      "(70568, 3)\n"
     ]
    }
   ],
   "source": [
    "df = df.dropna()\n",
    "print(df.shape)"
   ]
  },
  {
   "cell_type": "code",
   "execution_count": 9,
   "metadata": {},
   "outputs": [
    {
     "data": {
      "text/html": [
       "<div>\n",
       "<style scoped>\n",
       "    .dataframe tbody tr th:only-of-type {\n",
       "        vertical-align: middle;\n",
       "    }\n",
       "\n",
       "    .dataframe tbody tr th {\n",
       "        vertical-align: top;\n",
       "    }\n",
       "\n",
       "    .dataframe thead th {\n",
       "        text-align: right;\n",
       "    }\n",
       "</style>\n",
       "<table border=\"1\" class=\"dataframe\">\n",
       "  <thead>\n",
       "    <tr style=\"text-align: right;\">\n",
       "      <th></th>\n",
       "      <th>label</th>\n",
       "    </tr>\n",
       "  </thead>\n",
       "  <tbody>\n",
       "    <tr>\n",
       "      <th>0</th>\n",
       "      <td>0</td>\n",
       "    </tr>\n",
       "    <tr>\n",
       "      <th>1</th>\n",
       "      <td>0</td>\n",
       "    </tr>\n",
       "    <tr>\n",
       "      <th>2</th>\n",
       "      <td>0</td>\n",
       "    </tr>\n",
       "    <tr>\n",
       "      <th>3</th>\n",
       "      <td>0</td>\n",
       "    </tr>\n",
       "    <tr>\n",
       "      <th>4</th>\n",
       "      <td>1</td>\n",
       "    </tr>\n",
       "  </tbody>\n",
       "</table>\n",
       "</div>"
      ],
      "text/plain": [
       "   label\n",
       "0      0\n",
       "1      0\n",
       "2      0\n",
       "3      0\n",
       "4      1"
      ]
     },
     "execution_count": 9,
     "metadata": {},
     "output_type": "execute_result"
    }
   ],
   "source": [
    "# separate label into another dataframe\n",
    "df_labl = df[[key_label]]\n",
    "df_labl.head()"
   ]
  },
  {
   "cell_type": "code",
   "execution_count": 10,
   "metadata": {},
   "outputs": [
    {
     "data": {
      "text/html": [
       "<div>\n",
       "<style scoped>\n",
       "    .dataframe tbody tr th:only-of-type {\n",
       "        vertical-align: middle;\n",
       "    }\n",
       "\n",
       "    .dataframe tbody tr th {\n",
       "        vertical-align: top;\n",
       "    }\n",
       "\n",
       "    .dataframe thead th {\n",
       "        text-align: right;\n",
       "    }\n",
       "</style>\n",
       "<table border=\"1\" class=\"dataframe\">\n",
       "  <thead>\n",
       "    <tr style=\"text-align: right;\">\n",
       "      <th></th>\n",
       "      <th>dsl</th>\n",
       "      <th>dpo</th>\n",
       "    </tr>\n",
       "  </thead>\n",
       "  <tbody>\n",
       "    <tr>\n",
       "      <th>0</th>\n",
       "      <td>7</td>\n",
       "      <td>0.5</td>\n",
       "    </tr>\n",
       "    <tr>\n",
       "      <th>1</th>\n",
       "      <td>22</td>\n",
       "      <td>0.5</td>\n",
       "    </tr>\n",
       "    <tr>\n",
       "      <th>2</th>\n",
       "      <td>38</td>\n",
       "      <td>0.5</td>\n",
       "    </tr>\n",
       "    <tr>\n",
       "      <th>3</th>\n",
       "      <td>53</td>\n",
       "      <td>0.5</td>\n",
       "    </tr>\n",
       "    <tr>\n",
       "      <th>4</th>\n",
       "      <td>68</td>\n",
       "      <td>0.5</td>\n",
       "    </tr>\n",
       "  </tbody>\n",
       "</table>\n",
       "</div>"
      ],
      "text/plain": [
       "   dsl  dpo\n",
       "0    7  0.5\n",
       "1   22  0.5\n",
       "2   38  0.5\n",
       "3   53  0.5\n",
       "4   68  0.5"
      ]
     },
     "execution_count": 10,
     "metadata": {},
     "output_type": "execute_result"
    }
   ],
   "source": [
    "# extract input features\n",
    "df_data = df.drop([key_label], axis = 1)\n",
    "df_data.head()"
   ]
  },
  {
   "cell_type": "markdown",
   "metadata": {},
   "source": [
    "## Gradient Boosting Machine \n",
    "* Rank features by importance\n",
    "* Apply to entire dataset"
   ]
  },
  {
   "cell_type": "code",
   "execution_count": 11,
   "metadata": {},
   "outputs": [
    {
     "name": "stderr",
     "output_type": "stream",
     "text": [
      "/anaconda2/envs/py3k/lib/python3.6/site-packages/sklearn/cross_validation.py:41: DeprecationWarning: This module was deprecated in version 0.18 in favor of the model_selection module into which all the refactored classes and functions are moved. Also note that the interface of the new CV iterators are different from that of this module. This module will be removed in 0.20.\n",
      "  \"This module will be removed in 0.20.\", DeprecationWarning)\n",
      "/anaconda2/envs/py3k/lib/python3.6/site-packages/sklearn/grid_search.py:42: DeprecationWarning: This module was deprecated in version 0.18 in favor of the model_selection module into which all the refactored classes and functions are moved. This module will be removed in 0.20.\n",
      "  DeprecationWarning)\n"
     ]
    }
   ],
   "source": [
    "from sklearn.ensemble import GradientBoostingClassifier  #GBM algorithm\n",
    "from sklearn import cross_validation, metrics   #Additional scklearn functions\n",
    "from sklearn.grid_search import GridSearchCV   #Perforing grid search\n",
    "\n",
    "%matplotlib inline\n",
    "from matplotlib.pylab import rcParams\n",
    "rcParams['figure.figsize'] = 12, 4"
   ]
  },
  {
   "cell_type": "code",
   "execution_count": 12,
   "metadata": {},
   "outputs": [],
   "source": [
    "def modelfit(alg, dtrain, labels, predictors, performCV = True, printFeatureImportance = True, cv_folds = 5):\n",
    "    #Fit the algorithm on the data\n",
    "    alg.fit(dtrain, labels)\n",
    "        \n",
    "    #Predict training set:\n",
    "    dtrain_predictions = alg.predict(dtrain)\n",
    "    dtrain_predprob = alg.predict_proba(dtrain)[:,1]\n",
    "    \n",
    "    #Perform cross-validation:\n",
    "    if performCV:\n",
    "        cv_score = cross_validation.cross_val_score(alg, \n",
    "                                                    dtrain, \n",
    "                                                    labels, \n",
    "                                                    cv=cv_folds, \n",
    "                                                    scoring='accuracy')\n",
    "    \n",
    "    #Print model report:\n",
    "    analysis.log(\"\\nModel Report\")\n",
    "    analysis.log(\"Accuracy : %.10g\" % metrics.accuracy_score(labels, dtrain_predictions))\n",
    "    analysis.log(\"AUC Score (Train): %f\" % metrics.roc_auc_score(labels, dtrain_predprob))\n",
    "    \n",
    "    if performCV:\n",
    "        analysis.log(\"CV Score : Mean - %.7g | Std - %.7g | Min - %.7g | Max - %.7g\\n\" % (np.mean(cv_score),\n",
    "                                                                                 np.std(cv_score),\n",
    "                                                                                 np.min(cv_score),\n",
    "                                                                                 np.max(cv_score)))\n",
    "        \n",
    "    #Print Feature Importance:\n",
    "    if printFeatureImportance:\n",
    "        feat_imp = pd.Series(alg.feature_importances_, predictors).sort_values(ascending=False)\n",
    "        feat_imp.plot(kind='bar', title='Feature Importances')\n",
    "        plt.ylabel('Feature Importance Score')\n",
    "        plt.savefig(os.path.join(cwd, \"fig\", \"feature_importance.png\"))"
   ]
  },
  {
   "cell_type": "code",
   "execution_count": 13,
   "metadata": {},
   "outputs": [],
   "source": [
    "predictors = [x for x in df_data.columns if x not in [key_label, key_dt]]\n",
    "gbm0 = GradientBoostingClassifier(random_state=10)"
   ]
  },
  {
   "cell_type": "code",
   "execution_count": 14,
   "metadata": {},
   "outputs": [
    {
     "name": "stdout",
     "output_type": "stream",
     "text": [
      "\n",
      "Model Report\n",
      "Accuracy : 0.6728970638\n",
      "AUC Score (Train): 0.711036\n",
      "CV Score : Mean - 0.6713809 | Std - 0.003380754 | Min - 0.6658874 | Max - 0.6761851\n",
      "\n"
     ]
    },
    {
     "data": {
      "image/png": "[encoded data removed]",
      "text/plain": [
       "<Figure size 864x288 with 1 Axes>"
      ]
     },
     "metadata": {},
     "output_type": "display_data"
    }
   ],
   "source": [
    "modelfit(gbm0, df_data, df_labl.values.reshape(df_labl.shape[0], ), predictors)"
   ]
  },
  {
   "cell_type": "markdown",
   "metadata": {},
   "source": [
    "## Build Train-Test Dataset"
   ]
  },
  {
   "cell_type": "code",
   "execution_count": 15,
   "metadata": {},
   "outputs": [],
   "source": [
    "# choose subset of features to use\n",
    "features = [\"dpo\", \"dsl\"]\n",
    "\n",
    "# choose train-test split ratio\n",
    "ratio = 0.9"
   ]
  },
  {
   "cell_type": "code",
   "execution_count": 16,
   "metadata": {},
   "outputs": [],
   "source": [
    "# normalize\n",
    "df_data = (df_data - np.mean(df_data)) / np.std(df_data)"
   ]
  },
  {
   "cell_type": "code",
   "execution_count": 17,
   "metadata": {},
   "outputs": [
    {
     "data": {
      "text/plain": [
       "(70568, 2)"
      ]
     },
     "execution_count": 17,
     "metadata": {},
     "output_type": "execute_result"
    }
   ],
   "source": [
    "df_data = df[features]\n",
    "\n",
    "df_data.head()\n",
    "df_data.shape"
   ]
  },
  {
   "cell_type": "code",
   "execution_count": 18,
   "metadata": {},
   "outputs": [],
   "source": [
    "rows = len(df_data)\n",
    "split = int(rows * ratio)\n",
    "trn_data = df_data[:split]\n",
    "trn_labl = df_labl[:split].astype(int)\n",
    "\n",
    "tst_data = df_data[split:]\n",
    "tst_labl = df_labl[split:].astype(int)"
   ]
  },
  {
   "cell_type": "markdown",
   "metadata": {},
   "source": [
    "## Baseline"
   ]
  },
  {
   "cell_type": "code",
   "execution_count": 19,
   "metadata": {},
   "outputs": [
    {
     "name": "stdout",
     "output_type": "stream",
     "text": [
      "Dataset baseline: 59.05935%\n",
      "Train baseline: 59.32516%\n",
      "Test baseline: 56.66714%\n"
     ]
    }
   ],
   "source": [
    "print(\"Dataset baseline: %.5f%%\"%(analysis.Baseline(df_labl)))\n",
    "print(\"Train baseline: %.5f%%\"%(analysis.Baseline(trn_labl)))\n",
    "print(\"Test baseline: %.5f%%\"%(analysis.Baseline(tst_labl)))"
   ]
  },
  {
   "cell_type": "markdown",
   "metadata": {},
   "source": [
    "## Logistic Regression"
   ]
  },
  {
   "cell_type": "code",
   "execution_count": 20,
   "metadata": {},
   "outputs": [],
   "source": [
    "from sklearn.linear_model import LogisticRegression\n",
    "from sklearn.cross_validation import train_test_split\n",
    "from sklearn.feature_selection import RFE"
   ]
  },
  {
   "cell_type": "code",
   "execution_count": 21,
   "metadata": {},
   "outputs": [
    {
     "name": "stdout",
     "output_type": "stream",
     "text": [
      "[LibLinear]"
     ]
    },
    {
     "name": "stderr",
     "output_type": "stream",
     "text": [
      "/anaconda2/envs/py3k/lib/python3.6/site-packages/sklearn/utils/validation.py:578: DataConversionWarning: A column-vector y was passed when a 1d array was expected. Please change the shape of y to (n_samples, ), for example using ravel().\n",
      "  y = column_or_1d(y, warn=True)\n"
     ]
    },
    {
     "data": {
      "text/plain": [
       "LogisticRegression(C=1.0, class_weight=None, dual=False, fit_intercept=True,\n",
       "          intercept_scaling=1, max_iter=10000, multi_class='ovr', n_jobs=1,\n",
       "          penalty='l2', random_state=None, solver='liblinear', tol=0.0001,\n",
       "          verbose=3, warm_start=False)"
      ]
     },
     "execution_count": 21,
     "metadata": {},
     "output_type": "execute_result"
    }
   ],
   "source": [
    "logreg = LogisticRegression(max_iter = 10000,\n",
    "                           verbose = 3)\n",
    "logreg.fit(trn_data, \n",
    "           trn_labl)"
   ]
  },
  {
   "cell_type": "code",
   "execution_count": 22,
   "metadata": {},
   "outputs": [
    {
     "data": {
      "text/plain": [
       "0.60861555901941333"
      ]
     },
     "execution_count": 22,
     "metadata": {},
     "output_type": "execute_result"
    }
   ],
   "source": [
    "logreg.score(tst_data, \n",
    "             tst_labl, \n",
    "             sample_weight=None)"
   ]
  },
  {
   "cell_type": "code",
   "execution_count": 23,
   "metadata": {},
   "outputs": [
    {
     "data": {
      "text/html": [
       "<div>\n",
       "<style scoped>\n",
       "    .dataframe tbody tr th:only-of-type {\n",
       "        vertical-align: middle;\n",
       "    }\n",
       "\n",
       "    .dataframe tbody tr th {\n",
       "        vertical-align: top;\n",
       "    }\n",
       "\n",
       "    .dataframe thead th {\n",
       "        text-align: right;\n",
       "    }\n",
       "</style>\n",
       "<table border=\"1\" class=\"dataframe\">\n",
       "  <thead>\n",
       "    <tr style=\"text-align: right;\">\n",
       "      <th></th>\n",
       "      <th>63511</th>\n",
       "      <th>63512</th>\n",
       "      <th>63513</th>\n",
       "      <th>63514</th>\n",
       "      <th>63515</th>\n",
       "      <th>63516</th>\n",
       "      <th>63517</th>\n",
       "      <th>63518</th>\n",
       "      <th>63519</th>\n",
       "      <th>63520</th>\n",
       "      <th>...</th>\n",
       "      <th>70558</th>\n",
       "      <th>70559</th>\n",
       "      <th>70560</th>\n",
       "      <th>70561</th>\n",
       "      <th>70562</th>\n",
       "      <th>70563</th>\n",
       "      <th>70564</th>\n",
       "      <th>70565</th>\n",
       "      <th>70566</th>\n",
       "      <th>70567</th>\n",
       "    </tr>\n",
       "  </thead>\n",
       "  <tbody>\n",
       "    <tr>\n",
       "      <th>label</th>\n",
       "      <td>0</td>\n",
       "      <td>0</td>\n",
       "      <td>0</td>\n",
       "      <td>0</td>\n",
       "      <td>1</td>\n",
       "      <td>1</td>\n",
       "      <td>0</td>\n",
       "      <td>1</td>\n",
       "      <td>0</td>\n",
       "      <td>0</td>\n",
       "      <td>...</td>\n",
       "      <td>0</td>\n",
       "      <td>1</td>\n",
       "      <td>1</td>\n",
       "      <td>1</td>\n",
       "      <td>1</td>\n",
       "      <td>0</td>\n",
       "      <td>1</td>\n",
       "      <td>1</td>\n",
       "      <td>1</td>\n",
       "      <td>1</td>\n",
       "    </tr>\n",
       "    <tr>\n",
       "      <th>pred</th>\n",
       "      <td>0</td>\n",
       "      <td>0</td>\n",
       "      <td>0</td>\n",
       "      <td>0</td>\n",
       "      <td>0</td>\n",
       "      <td>0</td>\n",
       "      <td>0</td>\n",
       "      <td>0</td>\n",
       "      <td>0</td>\n",
       "      <td>0</td>\n",
       "      <td>...</td>\n",
       "      <td>1</td>\n",
       "      <td>0</td>\n",
       "      <td>1</td>\n",
       "      <td>1</td>\n",
       "      <td>1</td>\n",
       "      <td>1</td>\n",
       "      <td>1</td>\n",
       "      <td>1</td>\n",
       "      <td>1</td>\n",
       "      <td>1</td>\n",
       "    </tr>\n",
       "  </tbody>\n",
       "</table>\n",
       "<p>2 rows × 7057 columns</p>\n",
       "</div>"
      ],
      "text/plain": [
       "       63511  63512  63513  63514  63515  63516  63517  63518  63519  63520  \\\n",
       "label      0      0      0      0      1      1      0      1      0      0   \n",
       "pred       0      0      0      0      0      0      0      0      0      0   \n",
       "\n",
       "       ...    70558  70559  70560  70561  70562  70563  70564  70565  70566  \\\n",
       "label  ...        0      1      1      1      1      0      1      1      1   \n",
       "pred   ...        1      0      1      1      1      1      1      1      1   \n",
       "\n",
       "       70567  \n",
       "label      1  \n",
       "pred       1  \n",
       "\n",
       "[2 rows x 7057 columns]"
      ]
     },
     "execution_count": 23,
     "metadata": {},
     "output_type": "execute_result"
    }
   ],
   "source": [
    "pred = logreg.predict(tst_data)\n",
    "_ = deepcopy(tst_labl)\n",
    "_[\"pred\"] = pred\n",
    "_.T"
   ]
  },
  {
   "cell_type": "code",
   "execution_count": 24,
   "metadata": {},
   "outputs": [
    {
     "data": {
      "text/plain": [
       "1610"
      ]
     },
     "execution_count": 24,
     "metadata": {},
     "output_type": "execute_result"
    }
   ],
   "source": [
    "np.sum(pred)"
   ]
  },
  {
   "cell_type": "markdown",
   "metadata": {},
   "source": [
    "## Neural Net Binary Classifier"
   ]
  },
  {
   "cell_type": "code",
   "execution_count": 25,
   "metadata": {},
   "outputs": [
    {
     "name": "stderr",
     "output_type": "stream",
     "text": [
      "Using TensorFlow backend.\n"
     ]
    }
   ],
   "source": [
    "from keras.models import Sequential \n",
    "from keras.layers import Dense, Activation \n",
    "from keras.utils import np_utils"
   ]
  },
  {
   "cell_type": "code",
   "execution_count": 26,
   "metadata": {},
   "outputs": [],
   "source": [
    "def Build_Model():\n",
    "    nn = Sequential()\n",
    "    nn.add(Dense(32, activation=\"relu\", input_shape=(len(features),)))\n",
    "    nn.add(Dense(32, activation=\"relu\"))\n",
    "    nn.add(Dense(1, activation=\"sigmoid\"))\n",
    "    nn.compile(optimizer='adam', loss='binary_crossentropy', metrics=['accuracy'])\n",
    "    return nn"
   ]
  },
  {
   "cell_type": "code",
   "execution_count": 27,
   "metadata": {},
   "outputs": [
    {
     "name": "stdout",
     "output_type": "stream",
     "text": [
      "Epoch 1/10\n",
      "63511/63511 [==============================] - 0s 5us/step - loss: 0.6634 - acc: 0.6055\n",
      "Epoch 2/10\n",
      "63511/63511 [==============================] - 0s 4us/step - loss: 0.6382 - acc: 0.6561\n",
      "Epoch 3/10\n",
      "63511/63511 [==============================] - 0s 4us/step - loss: 0.6306 - acc: 0.6691\n",
      "Epoch 4/10\n",
      "63511/63511 [==============================] - 0s 4us/step - loss: 0.6252 - acc: 0.6668\n",
      "Epoch 5/10\n",
      "63511/63511 [==============================] - 0s 4us/step - loss: 0.6227 - acc: 0.6687\n",
      "Epoch 6/10\n",
      "63511/63511 [==============================] - 0s 4us/step - loss: 0.6221 - acc: 0.6665\n",
      "Epoch 7/10\n",
      "63511/63511 [==============================] - 0s 4us/step - loss: 0.6204 - acc: 0.6686\n",
      "Epoch 8/10\n",
      "63511/63511 [==============================] - 0s 4us/step - loss: 0.6192 - acc: 0.6681\n",
      "Epoch 9/10\n",
      "63511/63511 [==============================] - 0s 4us/step - loss: 0.6204 - acc: 0.6698\n",
      "Epoch 10/10\n",
      "63511/63511 [==============================] - 0s 4us/step - loss: 0.6186 - acc: 0.6699\n"
     ]
    },
    {
     "data": {
      "text/plain": [
       "<keras.callbacks.History at 0x1a2561ad30>"
      ]
     },
     "execution_count": 27,
     "metadata": {},
     "output_type": "execute_result"
    }
   ],
   "source": [
    "nn = Build_Model()\n",
    "nn.fit(trn_data, trn_labl, epochs = 10, batch_size = 512)"
   ]
  },
  {
   "cell_type": "code",
   "execution_count": 28,
   "metadata": {},
   "outputs": [
    {
     "data": {
      "text/html": [
       "<div>\n",
       "<style scoped>\n",
       "    .dataframe tbody tr th:only-of-type {\n",
       "        vertical-align: middle;\n",
       "    }\n",
       "\n",
       "    .dataframe tbody tr th {\n",
       "        vertical-align: top;\n",
       "    }\n",
       "\n",
       "    .dataframe thead th {\n",
       "        text-align: right;\n",
       "    }\n",
       "</style>\n",
       "<table border=\"1\" class=\"dataframe\">\n",
       "  <thead>\n",
       "    <tr style=\"text-align: right;\">\n",
       "      <th></th>\n",
       "      <th>63511</th>\n",
       "      <th>63512</th>\n",
       "      <th>63513</th>\n",
       "      <th>63514</th>\n",
       "      <th>63515</th>\n",
       "      <th>63516</th>\n",
       "      <th>63517</th>\n",
       "      <th>63518</th>\n",
       "      <th>63519</th>\n",
       "      <th>63520</th>\n",
       "      <th>...</th>\n",
       "      <th>70558</th>\n",
       "      <th>70559</th>\n",
       "      <th>70560</th>\n",
       "      <th>70561</th>\n",
       "      <th>70562</th>\n",
       "      <th>70563</th>\n",
       "      <th>70564</th>\n",
       "      <th>70565</th>\n",
       "      <th>70566</th>\n",
       "      <th>70567</th>\n",
       "    </tr>\n",
       "  </thead>\n",
       "  <tbody>\n",
       "    <tr>\n",
       "      <th>label</th>\n",
       "      <td>0.000000</td>\n",
       "      <td>0.000000</td>\n",
       "      <td>0.000000</td>\n",
       "      <td>0.000000</td>\n",
       "      <td>1.000000</td>\n",
       "      <td>1.000000</td>\n",
       "      <td>0.000000</td>\n",
       "      <td>1.00000</td>\n",
       "      <td>0.000000</td>\n",
       "      <td>0.000000</td>\n",
       "      <td>...</td>\n",
       "      <td>0.000000</td>\n",
       "      <td>1.00000</td>\n",
       "      <td>1.000000</td>\n",
       "      <td>1.000000</td>\n",
       "      <td>1.000000</td>\n",
       "      <td>0.000000</td>\n",
       "      <td>1.000000</td>\n",
       "      <td>1.000000</td>\n",
       "      <td>1.0000</td>\n",
       "      <td>1.000000</td>\n",
       "    </tr>\n",
       "    <tr>\n",
       "      <th>pred</th>\n",
       "      <td>0.319144</td>\n",
       "      <td>0.330433</td>\n",
       "      <td>0.284078</td>\n",
       "      <td>0.292116</td>\n",
       "      <td>0.287584</td>\n",
       "      <td>0.255347</td>\n",
       "      <td>0.294975</td>\n",
       "      <td>0.31062</td>\n",
       "      <td>0.297811</td>\n",
       "      <td>0.317674</td>\n",
       "      <td>...</td>\n",
       "      <td>0.707282</td>\n",
       "      <td>0.58846</td>\n",
       "      <td>0.622595</td>\n",
       "      <td>0.692572</td>\n",
       "      <td>0.689314</td>\n",
       "      <td>0.669001</td>\n",
       "      <td>0.642383</td>\n",
       "      <td>0.516354</td>\n",
       "      <td>0.4439</td>\n",
       "      <td>0.693456</td>\n",
       "    </tr>\n",
       "  </tbody>\n",
       "</table>\n",
       "<p>2 rows × 7057 columns</p>\n",
       "</div>"
      ],
      "text/plain": [
       "          63511     63512     63513     63514     63515     63516     63517  \\\n",
       "label  0.000000  0.000000  0.000000  0.000000  1.000000  1.000000  0.000000   \n",
       "pred   0.319144  0.330433  0.284078  0.292116  0.287584  0.255347  0.294975   \n",
       "\n",
       "         63518     63519     63520    ...        70558    70559     70560  \\\n",
       "label  1.00000  0.000000  0.000000    ...     0.000000  1.00000  1.000000   \n",
       "pred   0.31062  0.297811  0.317674    ...     0.707282  0.58846  0.622595   \n",
       "\n",
       "          70561     70562     70563     70564     70565   70566     70567  \n",
       "label  1.000000  1.000000  0.000000  1.000000  1.000000  1.0000  1.000000  \n",
       "pred   0.692572  0.689314  0.669001  0.642383  0.516354  0.4439  0.693456  \n",
       "\n",
       "[2 rows x 7057 columns]"
      ]
     },
     "execution_count": 28,
     "metadata": {},
     "output_type": "execute_result"
    }
   ],
   "source": [
    "pred_prob = nn.predict_proba(tst_data)\n",
    "_ = deepcopy(tst_labl)\n",
    "_[\"pred\"] = pred_prob\n",
    "_.T"
   ]
  },
  {
   "cell_type": "code",
   "execution_count": 29,
   "metadata": {},
   "outputs": [
    {
     "data": {
      "text/html": [
       "<div>\n",
       "<style scoped>\n",
       "    .dataframe tbody tr th:only-of-type {\n",
       "        vertical-align: middle;\n",
       "    }\n",
       "\n",
       "    .dataframe tbody tr th {\n",
       "        vertical-align: top;\n",
       "    }\n",
       "\n",
       "    .dataframe thead th {\n",
       "        text-align: right;\n",
       "    }\n",
       "</style>\n",
       "<table border=\"1\" class=\"dataframe\">\n",
       "  <thead>\n",
       "    <tr style=\"text-align: right;\">\n",
       "      <th></th>\n",
       "      <th>63515</th>\n",
       "      <th>63516</th>\n",
       "      <th>63518</th>\n",
       "      <th>63522</th>\n",
       "      <th>63524</th>\n",
       "      <th>63539</th>\n",
       "      <th>63542</th>\n",
       "      <th>63544</th>\n",
       "      <th>63547</th>\n",
       "      <th>63552</th>\n",
       "      <th>...</th>\n",
       "      <th>70556</th>\n",
       "      <th>70557</th>\n",
       "      <th>70559</th>\n",
       "      <th>70560</th>\n",
       "      <th>70561</th>\n",
       "      <th>70562</th>\n",
       "      <th>70564</th>\n",
       "      <th>70565</th>\n",
       "      <th>70566</th>\n",
       "      <th>70567</th>\n",
       "    </tr>\n",
       "  </thead>\n",
       "  <tbody>\n",
       "    <tr>\n",
       "      <th>label</th>\n",
       "      <td>1.000000</td>\n",
       "      <td>1.000000</td>\n",
       "      <td>1.00000</td>\n",
       "      <td>1.000000</td>\n",
       "      <td>1.000000</td>\n",
       "      <td>1.000000</td>\n",
       "      <td>1.000000</td>\n",
       "      <td>1.000000</td>\n",
       "      <td>1.000000</td>\n",
       "      <td>1.000000</td>\n",
       "      <td>...</td>\n",
       "      <td>1.000000</td>\n",
       "      <td>1.000000</td>\n",
       "      <td>1.00000</td>\n",
       "      <td>1.000000</td>\n",
       "      <td>1.000000</td>\n",
       "      <td>1.000000</td>\n",
       "      <td>1.000000</td>\n",
       "      <td>1.000000</td>\n",
       "      <td>1.0000</td>\n",
       "      <td>1.000000</td>\n",
       "    </tr>\n",
       "    <tr>\n",
       "      <th>pred</th>\n",
       "      <td>0.287584</td>\n",
       "      <td>0.255347</td>\n",
       "      <td>0.31062</td>\n",
       "      <td>0.197118</td>\n",
       "      <td>0.516243</td>\n",
       "      <td>0.232235</td>\n",
       "      <td>0.592342</td>\n",
       "      <td>0.559239</td>\n",
       "      <td>0.419286</td>\n",
       "      <td>0.299536</td>\n",
       "      <td>...</td>\n",
       "      <td>0.392116</td>\n",
       "      <td>0.696636</td>\n",
       "      <td>0.58846</td>\n",
       "      <td>0.622595</td>\n",
       "      <td>0.692572</td>\n",
       "      <td>0.689314</td>\n",
       "      <td>0.642383</td>\n",
       "      <td>0.516354</td>\n",
       "      <td>0.4439</td>\n",
       "      <td>0.693456</td>\n",
       "    </tr>\n",
       "  </tbody>\n",
       "</table>\n",
       "<p>2 rows × 3058 columns</p>\n",
       "</div>"
      ],
      "text/plain": [
       "          63515     63516    63518     63522     63524     63539     63542  \\\n",
       "label  1.000000  1.000000  1.00000  1.000000  1.000000  1.000000  1.000000   \n",
       "pred   0.287584  0.255347  0.31062  0.197118  0.516243  0.232235  0.592342   \n",
       "\n",
       "          63544     63547     63552    ...        70556     70557    70559  \\\n",
       "label  1.000000  1.000000  1.000000    ...     1.000000  1.000000  1.00000   \n",
       "pred   0.559239  0.419286  0.299536    ...     0.392116  0.696636  0.58846   \n",
       "\n",
       "          70560     70561     70562     70564     70565   70566     70567  \n",
       "label  1.000000  1.000000  1.000000  1.000000  1.000000  1.0000  1.000000  \n",
       "pred   0.622595  0.692572  0.689314  0.642383  0.516354  0.4439  0.693456  \n",
       "\n",
       "[2 rows x 3058 columns]"
      ]
     },
     "execution_count": 29,
     "metadata": {},
     "output_type": "execute_result"
    }
   ],
   "source": [
    "_[_[key_label] == 1].T"
   ]
  },
  {
   "cell_type": "code",
   "execution_count": 30,
   "metadata": {},
   "outputs": [
    {
     "data": {
      "text/html": [
       "<div>\n",
       "<style scoped>\n",
       "    .dataframe tbody tr th:only-of-type {\n",
       "        vertical-align: middle;\n",
       "    }\n",
       "\n",
       "    .dataframe tbody tr th {\n",
       "        vertical-align: top;\n",
       "    }\n",
       "\n",
       "    .dataframe thead th {\n",
       "        text-align: right;\n",
       "    }\n",
       "</style>\n",
       "<table border=\"1\" class=\"dataframe\">\n",
       "  <thead>\n",
       "    <tr style=\"text-align: right;\">\n",
       "      <th></th>\n",
       "      <th>63511</th>\n",
       "      <th>63512</th>\n",
       "      <th>63513</th>\n",
       "      <th>63514</th>\n",
       "      <th>63515</th>\n",
       "      <th>63516</th>\n",
       "      <th>63517</th>\n",
       "      <th>63518</th>\n",
       "      <th>63519</th>\n",
       "      <th>63520</th>\n",
       "      <th>...</th>\n",
       "      <th>70558</th>\n",
       "      <th>70559</th>\n",
       "      <th>70560</th>\n",
       "      <th>70561</th>\n",
       "      <th>70562</th>\n",
       "      <th>70563</th>\n",
       "      <th>70564</th>\n",
       "      <th>70565</th>\n",
       "      <th>70566</th>\n",
       "      <th>70567</th>\n",
       "    </tr>\n",
       "  </thead>\n",
       "  <tbody>\n",
       "    <tr>\n",
       "      <th>label</th>\n",
       "      <td>0</td>\n",
       "      <td>0</td>\n",
       "      <td>0</td>\n",
       "      <td>0</td>\n",
       "      <td>1</td>\n",
       "      <td>1</td>\n",
       "      <td>0</td>\n",
       "      <td>1</td>\n",
       "      <td>0</td>\n",
       "      <td>0</td>\n",
       "      <td>...</td>\n",
       "      <td>0</td>\n",
       "      <td>1</td>\n",
       "      <td>1</td>\n",
       "      <td>1</td>\n",
       "      <td>1</td>\n",
       "      <td>0</td>\n",
       "      <td>1</td>\n",
       "      <td>1</td>\n",
       "      <td>1</td>\n",
       "      <td>1</td>\n",
       "    </tr>\n",
       "    <tr>\n",
       "      <th>pred_p</th>\n",
       "      <td>0.319144</td>\n",
       "      <td>0.330433</td>\n",
       "      <td>0.284078</td>\n",
       "      <td>0.292116</td>\n",
       "      <td>0.287584</td>\n",
       "      <td>0.255347</td>\n",
       "      <td>0.294975</td>\n",
       "      <td>0.31062</td>\n",
       "      <td>0.297811</td>\n",
       "      <td>0.317674</td>\n",
       "      <td>...</td>\n",
       "      <td>0.707282</td>\n",
       "      <td>0.58846</td>\n",
       "      <td>0.622595</td>\n",
       "      <td>0.692572</td>\n",
       "      <td>0.689314</td>\n",
       "      <td>0.669001</td>\n",
       "      <td>0.642383</td>\n",
       "      <td>0.516354</td>\n",
       "      <td>0.4439</td>\n",
       "      <td>0.693456</td>\n",
       "    </tr>\n",
       "    <tr>\n",
       "      <th>pred</th>\n",
       "      <td>False</td>\n",
       "      <td>False</td>\n",
       "      <td>False</td>\n",
       "      <td>False</td>\n",
       "      <td>False</td>\n",
       "      <td>False</td>\n",
       "      <td>False</td>\n",
       "      <td>False</td>\n",
       "      <td>False</td>\n",
       "      <td>False</td>\n",
       "      <td>...</td>\n",
       "      <td>True</td>\n",
       "      <td>True</td>\n",
       "      <td>True</td>\n",
       "      <td>True</td>\n",
       "      <td>True</td>\n",
       "      <td>True</td>\n",
       "      <td>True</td>\n",
       "      <td>True</td>\n",
       "      <td>False</td>\n",
       "      <td>True</td>\n",
       "    </tr>\n",
       "  </tbody>\n",
       "</table>\n",
       "<p>3 rows × 7057 columns</p>\n",
       "</div>"
      ],
      "text/plain": [
       "           63511     63512     63513     63514     63515     63516     63517  \\\n",
       "label          0         0         0         0         1         1         0   \n",
       "pred_p  0.319144  0.330433  0.284078  0.292116  0.287584  0.255347  0.294975   \n",
       "pred       False     False     False     False     False     False     False   \n",
       "\n",
       "          63518     63519     63520    ...        70558    70559     70560  \\\n",
       "label         1         0         0    ...            0        1         1   \n",
       "pred_p  0.31062  0.297811  0.317674    ...     0.707282  0.58846  0.622595   \n",
       "pred      False     False     False    ...         True     True      True   \n",
       "\n",
       "           70561     70562     70563     70564     70565   70566     70567  \n",
       "label          1         1         0         1         1       1         1  \n",
       "pred_p  0.692572  0.689314  0.669001  0.642383  0.516354  0.4439  0.693456  \n",
       "pred        True      True      True      True      True   False      True  \n",
       "\n",
       "[3 rows x 7057 columns]"
      ]
     },
     "execution_count": 30,
     "metadata": {},
     "output_type": "execute_result"
    }
   ],
   "source": [
    "pred = nn.predict(tst_data)\n",
    "_ = deepcopy(tst_labl)\n",
    "_[\"pred_p\"] = pred\n",
    "_[\"pred\"] = pred > 0.5\n",
    "_.T"
   ]
  },
  {
   "cell_type": "code",
   "execution_count": 31,
   "metadata": {},
   "outputs": [
    {
     "data": {
      "text/plain": [
       "label    0.661329\n",
       "dtype: float64"
      ]
     },
     "execution_count": 31,
     "metadata": {},
     "output_type": "execute_result"
    }
   ],
   "source": [
    "np.sum(tst_labl == (pred > 0.5)) / len(tst_labl)"
   ]
  },
  {
   "cell_type": "markdown",
   "metadata": {},
   "source": [
    "## Neural Net Cross Validation"
   ]
  },
  {
   "cell_type": "code",
   "execution_count": 32,
   "metadata": {},
   "outputs": [
    {
     "name": "stdout",
     "output_type": "stream",
     "text": [
      "Fold 1 val_loss 0.62114, val_acc 0.66052\n",
      "Fold 2 val_loss 0.60651, val_acc 0.67897\n",
      "Fold 3 val_loss 0.60868, val_acc 0.67563\n",
      "Fold 4 val_loss 0.60724, val_acc 0.67777\n"
     ]
    }
   ],
   "source": [
    "k = 4\n",
    "num_val_samples = len(trn_data) // k\n",
    "num_epochs = 200\n",
    "batch_size = 256\n",
    "all_scores = []\n",
    "all_val_loss_history = []\n",
    "all_val_acc_history = []\n",
    "\n",
    "for i in range(k):\n",
    "    print('processing fold %i'%(i + 1), end=\"\\r\")\n",
    "    val_data = trn_data[i * num_val_samples : (i + 1) * num_val_samples]\n",
    "    val_labl = trn_labl[i * num_val_samples : (i + 1) * num_val_samples]\n",
    "    \n",
    "    prt_trn_data = np.concatenate([trn_data[:i * num_val_samples],\n",
    "                                  trn_data[(i + 1) * num_val_samples:]], axis = 0)\n",
    "    prt_trn_labl = np.concatenate([trn_labl[:i * num_val_samples],\n",
    "                                  trn_labl[(i + 1) * num_val_samples:]], axis = 0)\n",
    "    \n",
    "    model = Build_Model()\n",
    "    history = model.fit(prt_trn_data, prt_trn_labl, \n",
    "                        validation_data = (val_data, val_labl),\n",
    "                        epochs = num_epochs, batch_size = batch_size, verbose = 0)\n",
    "    \n",
    "    all_val_loss_history.append(history.history['val_loss'])\n",
    "    all_val_acc_history.append(history.history['val_acc'])\n",
    "    \n",
    "    val_l, val_a = model.evaluate(val_data, val_labl, verbose = 0)\n",
    "    print(\"Fold %i val_loss %.5f, val_acc %.5f\"%(i + 1, val_l, val_a))\n",
    "    all_scores.append(val_a)"
   ]
  },
  {
   "cell_type": "code",
   "execution_count": 33,
   "metadata": {},
   "outputs": [],
   "source": [
    "avg_val_loss_hist = [np.mean([x[i] for x in all_val_loss_history]) for i in range(num_epochs)]\n",
    "avg_val_acc_hist = [np.mean([x[i] for x in all_val_acc_history]) for i in range(num_epochs)]"
   ]
  },
  {
   "cell_type": "code",
   "execution_count": 34,
   "metadata": {},
   "outputs": [
    {
     "data": {
      "image/png": "[encoded data removed]",
      "text/plain": [
       "<Figure size 864x288 with 1 Axes>"
      ]
     },
     "metadata": {},
     "output_type": "display_data"
    }
   ],
   "source": [
    "plt.plot(range(1, len(avg_val_loss_hist) + 1), avg_val_loss_hist)\n",
    "plt.xlabel(\"Epochs\")\n",
    "plt.ylabel(\"Val Loss\")\n",
    "plt.title(\"Learning Curve\")\n",
    "plt.savefig(os.path.join(cwd, \"fig\", \"learning_curve.png\"))\n",
    "plt.show()"
   ]
  },
  {
   "cell_type": "code",
   "execution_count": 35,
   "metadata": {
    "scrolled": true
   },
   "outputs": [
    {
     "data": {
      "image/png": "[encoded data removed]",
      "text/plain": [
       "<Figure size 864x288 with 1 Axes>"
      ]
     },
     "metadata": {},
     "output_type": "display_data"
    }
   ],
   "source": [
    "plt.plot(range(1, len(avg_val_acc_hist) + 1), avg_val_acc_hist)\n",
    "plt.xlabel(\"Epochs\")\n",
    "plt.ylabel(\"Val Accuracy\")\n",
    "plt.title(\"Validation Accuracy\")\n",
    "plt.savefig(os.path.join(cwd, \"fig\", \"validation_accuracy.png\"))\n",
    "plt.show()"
   ]
  },
  {
   "cell_type": "markdown",
   "metadata": {},
   "source": [
    "## Final Model"
   ]
  },
  {
   "cell_type": "code",
   "execution_count": 36,
   "metadata": {},
   "outputs": [],
   "source": [
    "num_epochs = 120\n",
    "batch_size = 256\n",
    "threshold = 0.45\n",
    "model = Build_Model()\n",
    "history = model.fit(trn_data, trn_labl,\n",
    "                    validation_data = (tst_data, tst_labl),\n",
    "                    epochs = num_epochs, batch_size = batch_size, verbose = 0)"
   ]
  },
  {
   "cell_type": "code",
   "execution_count": 37,
   "metadata": {},
   "outputs": [
    {
     "data": {
      "text/html": [
       "<div>\n",
       "<style scoped>\n",
       "    .dataframe tbody tr th:only-of-type {\n",
       "        vertical-align: middle;\n",
       "    }\n",
       "\n",
       "    .dataframe tbody tr th {\n",
       "        vertical-align: top;\n",
       "    }\n",
       "\n",
       "    .dataframe thead th {\n",
       "        text-align: right;\n",
       "    }\n",
       "</style>\n",
       "<table border=\"1\" class=\"dataframe\">\n",
       "  <thead>\n",
       "    <tr style=\"text-align: right;\">\n",
       "      <th></th>\n",
       "      <th>63511</th>\n",
       "      <th>63512</th>\n",
       "      <th>63513</th>\n",
       "      <th>63514</th>\n",
       "      <th>63515</th>\n",
       "      <th>63516</th>\n",
       "      <th>63517</th>\n",
       "      <th>63518</th>\n",
       "      <th>63519</th>\n",
       "      <th>63520</th>\n",
       "      <th>...</th>\n",
       "      <th>70558</th>\n",
       "      <th>70559</th>\n",
       "      <th>70560</th>\n",
       "      <th>70561</th>\n",
       "      <th>70562</th>\n",
       "      <th>70563</th>\n",
       "      <th>70564</th>\n",
       "      <th>70565</th>\n",
       "      <th>70566</th>\n",
       "      <th>70567</th>\n",
       "    </tr>\n",
       "  </thead>\n",
       "  <tbody>\n",
       "    <tr>\n",
       "      <th>label</th>\n",
       "      <td>0</td>\n",
       "      <td>0</td>\n",
       "      <td>0</td>\n",
       "      <td>0</td>\n",
       "      <td>1</td>\n",
       "      <td>1</td>\n",
       "      <td>0</td>\n",
       "      <td>1</td>\n",
       "      <td>0</td>\n",
       "      <td>0</td>\n",
       "      <td>...</td>\n",
       "      <td>0</td>\n",
       "      <td>1</td>\n",
       "      <td>1</td>\n",
       "      <td>1</td>\n",
       "      <td>1</td>\n",
       "      <td>0</td>\n",
       "      <td>1</td>\n",
       "      <td>1</td>\n",
       "      <td>1</td>\n",
       "      <td>1</td>\n",
       "    </tr>\n",
       "    <tr>\n",
       "      <th>pred_p</th>\n",
       "      <td>0.30734</td>\n",
       "      <td>0.312895</td>\n",
       "      <td>0.29298</td>\n",
       "      <td>0.282305</td>\n",
       "      <td>0.299446</td>\n",
       "      <td>0.290069</td>\n",
       "      <td>0.301114</td>\n",
       "      <td>0.306443</td>\n",
       "      <td>0.306796</td>\n",
       "      <td>0.313111</td>\n",
       "      <td>...</td>\n",
       "      <td>0.805321</td>\n",
       "      <td>0.66649</td>\n",
       "      <td>0.659006</td>\n",
       "      <td>0.792471</td>\n",
       "      <td>0.787531</td>\n",
       "      <td>0.740066</td>\n",
       "      <td>0.644583</td>\n",
       "      <td>0.569208</td>\n",
       "      <td>0.458372</td>\n",
       "      <td>0.6993</td>\n",
       "    </tr>\n",
       "    <tr>\n",
       "      <th>pred</th>\n",
       "      <td>False</td>\n",
       "      <td>False</td>\n",
       "      <td>False</td>\n",
       "      <td>False</td>\n",
       "      <td>False</td>\n",
       "      <td>False</td>\n",
       "      <td>False</td>\n",
       "      <td>False</td>\n",
       "      <td>False</td>\n",
       "      <td>False</td>\n",
       "      <td>...</td>\n",
       "      <td>True</td>\n",
       "      <td>True</td>\n",
       "      <td>True</td>\n",
       "      <td>True</td>\n",
       "      <td>True</td>\n",
       "      <td>True</td>\n",
       "      <td>True</td>\n",
       "      <td>True</td>\n",
       "      <td>True</td>\n",
       "      <td>True</td>\n",
       "    </tr>\n",
       "  </tbody>\n",
       "</table>\n",
       "<p>3 rows × 7057 columns</p>\n",
       "</div>"
      ],
      "text/plain": [
       "          63511     63512    63513     63514     63515     63516     63517  \\\n",
       "label         0         0        0         0         1         1         0   \n",
       "pred_p  0.30734  0.312895  0.29298  0.282305  0.299446  0.290069  0.301114   \n",
       "pred      False     False    False     False     False     False     False   \n",
       "\n",
       "           63518     63519     63520   ...       70558    70559     70560  \\\n",
       "label          1         0         0   ...           0        1         1   \n",
       "pred_p  0.306443  0.306796  0.313111   ...    0.805321  0.66649  0.659006   \n",
       "pred       False     False     False   ...        True     True      True   \n",
       "\n",
       "           70561     70562     70563     70564     70565     70566   70567  \n",
       "label          1         1         0         1         1         1       1  \n",
       "pred_p  0.792471  0.787531  0.740066  0.644583  0.569208  0.458372  0.6993  \n",
       "pred        True      True      True      True      True      True    True  \n",
       "\n",
       "[3 rows x 7057 columns]"
      ]
     },
     "execution_count": 37,
     "metadata": {},
     "output_type": "execute_result"
    }
   ],
   "source": [
    "pred = model.predict(tst_data)\n",
    "_ = deepcopy(tst_labl)\n",
    "_[\"pred_p\"] = pred\n",
    "_[\"pred\"] = pred > threshold\n",
    "_.T"
   ]
  },
  {
   "cell_type": "code",
   "execution_count": 38,
   "metadata": {},
   "outputs": [
    {
     "data": {
      "text/html": [
       "<div>\n",
       "<style scoped>\n",
       "    .dataframe tbody tr th:only-of-type {\n",
       "        vertical-align: middle;\n",
       "    }\n",
       "\n",
       "    .dataframe tbody tr th {\n",
       "        vertical-align: top;\n",
       "    }\n",
       "\n",
       "    .dataframe thead th {\n",
       "        text-align: right;\n",
       "    }\n",
       "</style>\n",
       "<table border=\"1\" class=\"dataframe\">\n",
       "  <thead>\n",
       "    <tr style=\"text-align: right;\">\n",
       "      <th></th>\n",
       "      <th>63515</th>\n",
       "      <th>63516</th>\n",
       "      <th>63518</th>\n",
       "      <th>63522</th>\n",
       "      <th>63524</th>\n",
       "      <th>63539</th>\n",
       "      <th>63542</th>\n",
       "      <th>63544</th>\n",
       "      <th>63547</th>\n",
       "      <th>63552</th>\n",
       "      <th>...</th>\n",
       "      <th>70556</th>\n",
       "      <th>70557</th>\n",
       "      <th>70559</th>\n",
       "      <th>70560</th>\n",
       "      <th>70561</th>\n",
       "      <th>70562</th>\n",
       "      <th>70564</th>\n",
       "      <th>70565</th>\n",
       "      <th>70566</th>\n",
       "      <th>70567</th>\n",
       "    </tr>\n",
       "  </thead>\n",
       "  <tbody>\n",
       "    <tr>\n",
       "      <th>label</th>\n",
       "      <td>1</td>\n",
       "      <td>1</td>\n",
       "      <td>1</td>\n",
       "      <td>1</td>\n",
       "      <td>1</td>\n",
       "      <td>1</td>\n",
       "      <td>1</td>\n",
       "      <td>1</td>\n",
       "      <td>1</td>\n",
       "      <td>1</td>\n",
       "      <td>...</td>\n",
       "      <td>1</td>\n",
       "      <td>1</td>\n",
       "      <td>1</td>\n",
       "      <td>1</td>\n",
       "      <td>1</td>\n",
       "      <td>1</td>\n",
       "      <td>1</td>\n",
       "      <td>1</td>\n",
       "      <td>1</td>\n",
       "      <td>1</td>\n",
       "    </tr>\n",
       "    <tr>\n",
       "      <th>pred_p</th>\n",
       "      <td>0.299446</td>\n",
       "      <td>0.290069</td>\n",
       "      <td>0.306443</td>\n",
       "      <td>0.221226</td>\n",
       "      <td>0.482009</td>\n",
       "      <td>0.264554</td>\n",
       "      <td>0.608779</td>\n",
       "      <td>0.509348</td>\n",
       "      <td>0.405354</td>\n",
       "      <td>0.311904</td>\n",
       "      <td>...</td>\n",
       "      <td>0.412018</td>\n",
       "      <td>0.712906</td>\n",
       "      <td>0.66649</td>\n",
       "      <td>0.659006</td>\n",
       "      <td>0.792471</td>\n",
       "      <td>0.787531</td>\n",
       "      <td>0.644583</td>\n",
       "      <td>0.569208</td>\n",
       "      <td>0.458372</td>\n",
       "      <td>0.6993</td>\n",
       "    </tr>\n",
       "    <tr>\n",
       "      <th>pred</th>\n",
       "      <td>False</td>\n",
       "      <td>False</td>\n",
       "      <td>False</td>\n",
       "      <td>False</td>\n",
       "      <td>True</td>\n",
       "      <td>False</td>\n",
       "      <td>True</td>\n",
       "      <td>True</td>\n",
       "      <td>False</td>\n",
       "      <td>False</td>\n",
       "      <td>...</td>\n",
       "      <td>False</td>\n",
       "      <td>True</td>\n",
       "      <td>True</td>\n",
       "      <td>True</td>\n",
       "      <td>True</td>\n",
       "      <td>True</td>\n",
       "      <td>True</td>\n",
       "      <td>True</td>\n",
       "      <td>True</td>\n",
       "      <td>True</td>\n",
       "    </tr>\n",
       "  </tbody>\n",
       "</table>\n",
       "<p>3 rows × 3058 columns</p>\n",
       "</div>"
      ],
      "text/plain": [
       "           63515     63516     63518     63522     63524     63539     63542  \\\n",
       "label          1         1         1         1         1         1         1   \n",
       "pred_p  0.299446  0.290069  0.306443  0.221226  0.482009  0.264554  0.608779   \n",
       "pred       False     False     False     False      True     False      True   \n",
       "\n",
       "           63544     63547     63552   ...       70556     70557    70559  \\\n",
       "label          1         1         1   ...           1         1        1   \n",
       "pred_p  0.509348  0.405354  0.311904   ...    0.412018  0.712906  0.66649   \n",
       "pred        True     False     False   ...       False      True     True   \n",
       "\n",
       "           70560     70561     70562     70564     70565     70566   70567  \n",
       "label          1         1         1         1         1         1       1  \n",
       "pred_p  0.659006  0.792471  0.787531  0.644583  0.569208  0.458372  0.6993  \n",
       "pred        True      True      True      True      True      True    True  \n",
       "\n",
       "[3 rows x 3058 columns]"
      ]
     },
     "execution_count": 38,
     "metadata": {},
     "output_type": "execute_result"
    }
   ],
   "source": [
    "_[_[key_label] == 1].T"
   ]
  },
  {
   "cell_type": "code",
   "execution_count": 39,
   "metadata": {},
   "outputs": [
    {
     "data": {
      "text/html": [
       "<div>\n",
       "<style scoped>\n",
       "    .dataframe tbody tr th:only-of-type {\n",
       "        vertical-align: middle;\n",
       "    }\n",
       "\n",
       "    .dataframe tbody tr th {\n",
       "        vertical-align: top;\n",
       "    }\n",
       "\n",
       "    .dataframe thead th {\n",
       "        text-align: right;\n",
       "    }\n",
       "</style>\n",
       "<table border=\"1\" class=\"dataframe\">\n",
       "  <thead>\n",
       "    <tr style=\"text-align: right;\">\n",
       "      <th></th>\n",
       "      <th>63511</th>\n",
       "      <th>63512</th>\n",
       "      <th>63513</th>\n",
       "      <th>63514</th>\n",
       "      <th>63517</th>\n",
       "      <th>63519</th>\n",
       "      <th>63520</th>\n",
       "      <th>63521</th>\n",
       "      <th>63523</th>\n",
       "      <th>63525</th>\n",
       "      <th>...</th>\n",
       "      <th>70524</th>\n",
       "      <th>70525</th>\n",
       "      <th>70530</th>\n",
       "      <th>70535</th>\n",
       "      <th>70541</th>\n",
       "      <th>70542</th>\n",
       "      <th>70553</th>\n",
       "      <th>70555</th>\n",
       "      <th>70558</th>\n",
       "      <th>70563</th>\n",
       "    </tr>\n",
       "  </thead>\n",
       "  <tbody>\n",
       "    <tr>\n",
       "      <th>label</th>\n",
       "      <td>0</td>\n",
       "      <td>0</td>\n",
       "      <td>0</td>\n",
       "      <td>0</td>\n",
       "      <td>0</td>\n",
       "      <td>0</td>\n",
       "      <td>0</td>\n",
       "      <td>0</td>\n",
       "      <td>0</td>\n",
       "      <td>0</td>\n",
       "      <td>...</td>\n",
       "      <td>0</td>\n",
       "      <td>0</td>\n",
       "      <td>0</td>\n",
       "      <td>0</td>\n",
       "      <td>0</td>\n",
       "      <td>0</td>\n",
       "      <td>0</td>\n",
       "      <td>0</td>\n",
       "      <td>0</td>\n",
       "      <td>0</td>\n",
       "    </tr>\n",
       "    <tr>\n",
       "      <th>pred_p</th>\n",
       "      <td>0.30734</td>\n",
       "      <td>0.312895</td>\n",
       "      <td>0.29298</td>\n",
       "      <td>0.282305</td>\n",
       "      <td>0.301114</td>\n",
       "      <td>0.306796</td>\n",
       "      <td>0.313111</td>\n",
       "      <td>0.273799</td>\n",
       "      <td>0.548318</td>\n",
       "      <td>0.423796</td>\n",
       "      <td>...</td>\n",
       "      <td>0.470413</td>\n",
       "      <td>0.414073</td>\n",
       "      <td>0.742082</td>\n",
       "      <td>0.723911</td>\n",
       "      <td>0.28015</td>\n",
       "      <td>0.219887</td>\n",
       "      <td>0.692302</td>\n",
       "      <td>0.680012</td>\n",
       "      <td>0.805321</td>\n",
       "      <td>0.740066</td>\n",
       "    </tr>\n",
       "    <tr>\n",
       "      <th>pred</th>\n",
       "      <td>False</td>\n",
       "      <td>False</td>\n",
       "      <td>False</td>\n",
       "      <td>False</td>\n",
       "      <td>False</td>\n",
       "      <td>False</td>\n",
       "      <td>False</td>\n",
       "      <td>False</td>\n",
       "      <td>True</td>\n",
       "      <td>False</td>\n",
       "      <td>...</td>\n",
       "      <td>True</td>\n",
       "      <td>False</td>\n",
       "      <td>True</td>\n",
       "      <td>True</td>\n",
       "      <td>False</td>\n",
       "      <td>False</td>\n",
       "      <td>True</td>\n",
       "      <td>True</td>\n",
       "      <td>True</td>\n",
       "      <td>True</td>\n",
       "    </tr>\n",
       "  </tbody>\n",
       "</table>\n",
       "<p>3 rows × 3999 columns</p>\n",
       "</div>"
      ],
      "text/plain": [
       "          63511     63512    63513     63514     63517     63519     63520  \\\n",
       "label         0         0        0         0         0         0         0   \n",
       "pred_p  0.30734  0.312895  0.29298  0.282305  0.301114  0.306796  0.313111   \n",
       "pred      False     False    False     False     False     False     False   \n",
       "\n",
       "           63521     63523     63525    ...        70524     70525     70530  \\\n",
       "label          0         0         0    ...            0         0         0   \n",
       "pred_p  0.273799  0.548318  0.423796    ...     0.470413  0.414073  0.742082   \n",
       "pred       False      True     False    ...         True     False      True   \n",
       "\n",
       "           70535    70541     70542     70553     70555     70558     70563  \n",
       "label          0        0         0         0         0         0         0  \n",
       "pred_p  0.723911  0.28015  0.219887  0.692302  0.680012  0.805321  0.740066  \n",
       "pred        True    False     False      True      True      True      True  \n",
       "\n",
       "[3 rows x 3999 columns]"
      ]
     },
     "execution_count": 39,
     "metadata": {},
     "output_type": "execute_result"
    }
   ],
   "source": [
    "_[_[key_label] == 0].T"
   ]
  },
  {
   "cell_type": "markdown",
   "metadata": {},
   "source": [
    "## Analysis"
   ]
  },
  {
   "cell_type": "code",
   "execution_count": 40,
   "metadata": {},
   "outputs": [
    {
     "name": "stdout",
     "output_type": "stream",
     "text": [
      "baseline = 56.66714%\n",
      "tp = 1801\n",
      "tn = 2875\n",
      "fp = 1124\n",
      "fn = 1257\n",
      "precision = 61.57265%\n",
      "recall = 58.89470%\n",
      "accuracy = 66.26045%\n",
      "TPR = 58.89470%\n",
      "FPR = 28.10703%\n"
     ]
    }
   ],
   "source": [
    "summary = analysis.err_analyze(tst_labl.values, pred, threshold, verbose = True)"
   ]
  },
  {
   "cell_type": "code",
   "execution_count": 41,
   "metadata": {},
   "outputs": [
    {
     "data": {
      "image/png": "[encoded data removed]",
      "text/plain": [
       "<Figure size 864x288 with 1 Axes>"
      ]
     },
     "metadata": {},
     "output_type": "display_data"
    }
   ],
   "source": [
    "tprs, fprs, ts = analysis.discretize(tst_labl.values, pred, n = 1000)\n",
    "analysis.plot_roc_curve(fprs, tprs, save_path = os.path.join(cwd, \"fig\", \"roc.png\"))"
   ]
  },
  {
   "cell_type": "code",
   "execution_count": 42,
   "metadata": {},
   "outputs": [
    {
     "data": {
      "image/png": "[encoded data removed]",
      "text/plain": [
       "<Figure size 864x288 with 1 Axes>"
      ]
     },
     "metadata": {},
     "output_type": "display_data"
    }
   ],
   "source": [
    "plt.hist(pred, 100)\n",
    "plt.title(\"Prediction Distribution\")\n",
    "plt.xlabel(\"Probability\")\n",
    "plt.ylabel(\"Count\")\n",
    "plt.savefig(os.path.join(cwd, \"fig\", \"predict_prob.png\"))"
   ]
  }
 ],
 "metadata": {
  "kernelspec": {
   "display_name": "Python 3",
   "language": "python",
   "name": "python3"
  },
  "language_info": {
   "codemirror_mode": {
    "name": "ipython",
    "version": 3
   },
   "file_extension": ".py",
   "mimetype": "text/x-python",
   "name": "python",
   "nbconvert_exporter": "python",
   "pygments_lexer": "ipython3",
   "version": "3.6.5"
  }
 },
 "nbformat": 4,
 "nbformat_minor": 2
}
